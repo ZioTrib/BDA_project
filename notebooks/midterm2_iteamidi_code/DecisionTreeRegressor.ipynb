{
 "cells": [
  {
   "cell_type": "markdown",
   "metadata": {},
   "source": [
    "# Ordinal regression task"
   ]
  },
  {
   "cell_type": "code",
   "execution_count": 41,
   "metadata": {},
   "outputs": [],
   "source": [
    "import re\n",
    "import sys\n",
    "\n",
    "import pandas as pd\n",
    "import numpy as np\n",
    "\n",
    "import matplotlib.pyplot as plt\n",
    "%matplotlib inline\n",
    "import seaborn as sns\n",
    "\n",
    "import time\n",
    "import datetime\n",
    "\n",
    "import warnings\n",
    "warnings.filterwarnings(\"ignore\")\n",
    "\n",
    "from sklearn import tree\n",
    "from sklearn import preprocessing\n",
    "\n",
    "from sklearn.model_selection import train_test_split\n",
    "\n",
    "from sklearn import metrics\n",
    "from sklearn.metrics import accuracy_score, mean_squared_error,mean_absolute_error,r2_score\n",
    "\n",
    "from math import sqrt\n",
    "from scipy import stats "
   ]
  },
  {
   "cell_type": "code",
   "execution_count": 42,
   "metadata": {},
   "outputs": [
    {
     "data": {
      "text/html": [
       "<div>\n",
       "<style scoped>\n",
       "    .dataframe tbody tr th:only-of-type {\n",
       "        vertical-align: middle;\n",
       "    }\n",
       "\n",
       "    .dataframe tbody tr th {\n",
       "        vertical-align: top;\n",
       "    }\n",
       "\n",
       "    .dataframe thead th {\n",
       "        text-align: right;\n",
       "    }\n",
       "</style>\n",
       "<table border=\"1\" class=\"dataframe\">\n",
       "  <thead>\n",
       "    <tr style=\"text-align: right;\">\n",
       "      <th></th>\n",
       "      <th>App</th>\n",
       "      <th>Rating</th>\n",
       "      <th>Reviews</th>\n",
       "      <th>Size</th>\n",
       "      <th>Installs</th>\n",
       "      <th>Price</th>\n",
       "      <th>Content Rating</th>\n",
       "      <th>Last Updated</th>\n",
       "      <th>Current Ver</th>\n",
       "      <th>Android Ver</th>\n",
       "      <th>Main_Genres</th>\n",
       "      <th>Secondary_Genres</th>\n",
       "      <th>Is_Family</th>\n",
       "      <th>Is_Game</th>\n",
       "      <th>Compatibility</th>\n",
       "      <th>RTR</th>\n",
       "      <th>Both_Stores</th>\n",
       "    </tr>\n",
       "  </thead>\n",
       "  <tbody>\n",
       "    <tr>\n",
       "      <th>0</th>\n",
       "      <td>🔥 FOOTBALL WALLPAPERS 4K | FULL HD BACKGROUNDS 😍</td>\n",
       "      <td>4.7</td>\n",
       "      <td>11661</td>\n",
       "      <td>4.0</td>\n",
       "      <td>(1000000, 5000000]</td>\n",
       "      <td>0.0</td>\n",
       "      <td>Everyone</td>\n",
       "      <td>07-2018</td>\n",
       "      <td>1.1.3.2</td>\n",
       "      <td>4.0.3 and up</td>\n",
       "      <td>Entertainment</td>\n",
       "      <td>None</td>\n",
       "      <td>0</td>\n",
       "      <td>0</td>\n",
       "      <td>Medium</td>\n",
       "      <td>0.002914</td>\n",
       "      <td>0</td>\n",
       "    </tr>\n",
       "    <tr>\n",
       "      <th>1</th>\n",
       "      <td>📏 SMART RULER ↔️ CM/INCH MEASURING FOR HOMEWORK!</td>\n",
       "      <td>4.0</td>\n",
       "      <td>19</td>\n",
       "      <td>3.2</td>\n",
       "      <td>(10000, 50000]</td>\n",
       "      <td>0.0</td>\n",
       "      <td>Everyone</td>\n",
       "      <td>10-2017</td>\n",
       "      <td>1.0</td>\n",
       "      <td>4.2 and up</td>\n",
       "      <td>Tools</td>\n",
       "      <td>None</td>\n",
       "      <td>0</td>\n",
       "      <td>0</td>\n",
       "      <td>Medium</td>\n",
       "      <td>0.000473</td>\n",
       "      <td>0</td>\n",
       "    </tr>\n",
       "  </tbody>\n",
       "</table>\n",
       "</div>"
      ],
      "text/plain": [
       "                                                App  Rating  Reviews  Size  \\\n",
       "0  🔥 FOOTBALL WALLPAPERS 4K | FULL HD BACKGROUNDS 😍     4.7    11661   4.0   \n",
       "1  📏 SMART RULER ↔️ CM/INCH MEASURING FOR HOMEWORK!     4.0       19   3.2   \n",
       "\n",
       "             Installs  Price Content Rating Last Updated Current Ver  \\\n",
       "0  (1000000, 5000000]    0.0       Everyone      07-2018     1.1.3.2   \n",
       "1      (10000, 50000]    0.0       Everyone      10-2017         1.0   \n",
       "\n",
       "    Android Ver    Main_Genres Secondary_Genres  Is_Family  Is_Game  \\\n",
       "0  4.0.3 and up  Entertainment             None          0        0   \n",
       "1    4.2 and up          Tools             None          0        0   \n",
       "\n",
       "  Compatibility       RTR  Both_Stores  \n",
       "0        Medium  0.002914            0  \n",
       "1        Medium  0.000473            0  "
      ]
     },
     "execution_count": 42,
     "metadata": {},
     "output_type": "execute_result"
    }
   ],
   "source": [
    "df = pd.read_csv(\"data_cleaned.csv\")\n",
    "df.head(2)"
   ]
  },
  {
   "cell_type": "code",
   "execution_count": 43,
   "metadata": {},
   "outputs": [
    {
     "data": {
      "text/plain": [
       "(8197, 17)"
      ]
     },
     "execution_count": 43,
     "metadata": {},
     "output_type": "execute_result"
    }
   ],
   "source": [
    "df.shape"
   ]
  },
  {
   "cell_type": "markdown",
   "metadata": {},
   "source": [
    "## Decision Tree regressor (DTR)"
   ]
  },
  {
   "cell_type": "markdown",
   "metadata": {},
   "source": [
    "### Preprocessing"
   ]
  },
  {
   "cell_type": "markdown",
   "metadata": {},
   "source": [
    "- Features encoding"
   ]
  },
  {
   "cell_type": "code",
   "execution_count": 44,
   "metadata": {},
   "outputs": [],
   "source": [
    "from sklearn.preprocessing import LabelEncoder"
   ]
  },
  {
   "cell_type": "code",
   "execution_count": 45,
   "metadata": {},
   "outputs": [],
   "source": [
    "#Categorical encoding\n",
    "\n",
    "label_encoders = dict()\n",
    "column2encode = ['Content Rating', 'Current Ver', 'Installs', 'Android Ver', 'Secondary_Genres', 'Compatibility', 'Main_Genres']\n",
    "\n",
    "for col in column2encode:\n",
    "    le = LabelEncoder()\n",
    "    df[col] = le.fit_transform(df[col])\n",
    "    label_encoders[col] = le"
   ]
  },
  {
   "cell_type": "code",
   "execution_count": 46,
   "metadata": {},
   "outputs": [],
   "source": [
    "#App name drop\n",
    "\n",
    "df.drop('App', axis=1, inplace=True)"
   ]
  },
  {
   "cell_type": "code",
   "execution_count": 47,
   "metadata": {},
   "outputs": [],
   "source": [
    "#Last Updated encoding\n",
    "\n",
    "df['YearUpdated'], df['MonthUpdated'] = pd.to_datetime(df['Last Updated']).dt.year, pd.to_datetime(df['Last Updated']).dt.month\n",
    "df.drop('Last Updated', axis=1, inplace=True)"
   ]
  },
  {
   "cell_type": "code",
   "execution_count": 48,
   "metadata": {},
   "outputs": [
    {
     "data": {
      "text/html": [
       "<div>\n",
       "<style scoped>\n",
       "    .dataframe tbody tr th:only-of-type {\n",
       "        vertical-align: middle;\n",
       "    }\n",
       "\n",
       "    .dataframe tbody tr th {\n",
       "        vertical-align: top;\n",
       "    }\n",
       "\n",
       "    .dataframe thead th {\n",
       "        text-align: right;\n",
       "    }\n",
       "</style>\n",
       "<table border=\"1\" class=\"dataframe\">\n",
       "  <thead>\n",
       "    <tr style=\"text-align: right;\">\n",
       "      <th></th>\n",
       "      <th>Rating</th>\n",
       "      <th>Reviews</th>\n",
       "      <th>Size</th>\n",
       "      <th>Installs</th>\n",
       "      <th>Price</th>\n",
       "      <th>Content Rating</th>\n",
       "      <th>Current Ver</th>\n",
       "      <th>Android Ver</th>\n",
       "      <th>Main_Genres</th>\n",
       "      <th>Secondary_Genres</th>\n",
       "      <th>Is_Family</th>\n",
       "      <th>Is_Game</th>\n",
       "      <th>Compatibility</th>\n",
       "      <th>RTR</th>\n",
       "      <th>Both_Stores</th>\n",
       "      <th>YearUpdated</th>\n",
       "      <th>MonthUpdated</th>\n",
       "    </tr>\n",
       "  </thead>\n",
       "  <tbody>\n",
       "    <tr>\n",
       "      <th>5149</th>\n",
       "      <td>1.2</td>\n",
       "      <td>44</td>\n",
       "      <td>27.0</td>\n",
       "      <td>3</td>\n",
       "      <td>0.0</td>\n",
       "      <td>1</td>\n",
       "      <td>1579</td>\n",
       "      <td>25</td>\n",
       "      <td>19</td>\n",
       "      <td>5</td>\n",
       "      <td>0</td>\n",
       "      <td>0</td>\n",
       "      <td>2</td>\n",
       "      <td>0.010998</td>\n",
       "      <td>0</td>\n",
       "      <td>2018</td>\n",
       "      <td>4</td>\n",
       "    </tr>\n",
       "  </tbody>\n",
       "</table>\n",
       "</div>"
      ],
      "text/plain": [
       "      Rating  Reviews  Size  Installs  Price  Content Rating  Current Ver  \\\n",
       "5149     1.2       44  27.0         3    0.0               1         1579   \n",
       "\n",
       "      Android Ver  Main_Genres  Secondary_Genres  Is_Family  Is_Game  \\\n",
       "5149           25           19                 5          0        0   \n",
       "\n",
       "      Compatibility       RTR  Both_Stores  YearUpdated  MonthUpdated  \n",
       "5149              2  0.010998            0         2018             4  "
      ]
     },
     "execution_count": 48,
     "metadata": {},
     "output_type": "execute_result"
    }
   ],
   "source": [
    "df[(df['Rating']==1.2)]"
   ]
  },
  {
   "cell_type": "code",
   "execution_count": 49,
   "metadata": {},
   "outputs": [],
   "source": [
    "df.drop(df[(df['Rating']==1.2)].index, inplace=True)\n",
    "df.reset_index(drop=True, inplace=True)"
   ]
  },
  {
   "cell_type": "code",
   "execution_count": 50,
   "metadata": {},
   "outputs": [],
   "source": [
    "df_copy = df.copy()"
   ]
  },
  {
   "cell_type": "markdown",
   "metadata": {},
   "source": [
    "### Perform DTR"
   ]
  },
  {
   "cell_type": "markdown",
   "metadata": {},
   "source": [
    "- Features selection and model construction"
   ]
  },
  {
   "cell_type": "code",
   "execution_count": 11,
   "metadata": {},
   "outputs": [],
   "source": [
    "features = [col for col in df.columns if col != 'Rating']\n",
    "X = df[features].values\n",
    "\n",
    "X = df[features]\n",
    "y = df['Rating']\n",
    "\n",
    "X_train, X_test, y_train, y_test = train_test_split(X, y, \n",
    "                                                    test_size=0.3, \n",
    "                                                    random_state=42, \n",
    "                                                    stratify=y)"
   ]
  },
  {
   "cell_type": "code",
   "execution_count": 12,
   "metadata": {},
   "outputs": [],
   "source": [
    "clf = tree.DecisionTreeRegressor(criterion='mse', \n",
    "                                 max_depth=6, \n",
    "                                 min_samples_split=2, \n",
    "                                 min_samples_leaf=5,\n",
    "                                 random_state=42)\n",
    "clf = clf.fit(X_train, y_train)"
   ]
  },
  {
   "cell_type": "code",
   "execution_count": 13,
   "metadata": {},
   "outputs": [
    {
     "data": {
      "text/plain": [
       "DecisionTreeRegressor(max_depth=6, min_samples_leaf=5, random_state=42)"
      ]
     },
     "execution_count": 13,
     "metadata": {},
     "output_type": "execute_result"
    }
   ],
   "source": [
    "clf.fit(X_train, y_train)"
   ]
  },
  {
   "cell_type": "code",
   "execution_count": 14,
   "metadata": {},
   "outputs": [],
   "source": [
    "y_pred = clf.predict(X_test)\n",
    "y_pred_tr = clf.predict(X_train)"
   ]
  },
  {
   "cell_type": "markdown",
   "metadata": {},
   "source": [
    "### Analyze the results"
   ]
  },
  {
   "cell_type": "markdown",
   "metadata": {},
   "source": [
    "- Features importance"
   ]
  },
  {
   "cell_type": "code",
   "execution_count": 15,
   "metadata": {},
   "outputs": [
    {
     "name": "stdout",
     "output_type": "stream",
     "text": [
      "{'Secondary_Genres': 0.0, 'Is_Game': 0.0, 'Compatibility': 0.0, 'Both_Stores': 0.0, 'Is_Family': 0.005596454576268625, 'Current Ver': 0.010170970321460176, 'Content Rating': 0.011413566913913162, 'Installs': 0.018302428888721536, 'MonthUpdated': 0.02107251250687544, 'Price': 0.026577605969373978, 'Main_Genres': 0.03880944650932835, 'YearUpdated': 0.057298831554201894, 'Size': 0.057758934563247454, 'Android Ver': 0.08794711310115842, 'Reviews': 0.19394891004094594, 'RTR': 0.47110322505450497}\n"
     ]
    },
    {
     "data": {
      "image/png": "[encoded data removed]",
      "text/plain": [
       "<Figure size 432x288 with 1 Axes>"
      ]
     },
     "metadata": {
      "needs_background": "light"
     },
     "output_type": "display_data"
    }
   ],
   "source": [
    "import matplotlib.pyplot as plt\n",
    "from collections import OrderedDict\n",
    "\n",
    "d={}\n",
    "labels = []\n",
    "sizes = []\n",
    "for col, imp in zip(features, clf.feature_importances_):\n",
    "    d[col]=imp\n",
    "\n",
    "sort_d= {k: v for k, v in sorted(d.items(), key=lambda item: item[1])}\n",
    "print(sort_d)\n",
    "\n",
    "#Plot\n",
    "plt.barh(*zip(*sort_d.items()))\n",
    "plt.show()"
   ]
  },
  {
   "cell_type": "markdown",
   "metadata": {},
   "source": [
    "- Evaluate the performance"
   ]
  },
  {
   "cell_type": "code",
   "execution_count": 16,
   "metadata": {},
   "outputs": [
    {
     "name": "stdout",
     "output_type": "stream",
     "text": [
      "MAE of TEST 0.3445199999556061\n",
      "\n",
      "MSE of TEST 0.2577355333345405\n",
      "\n",
      "RMSE of TEST 0.5076766030993949\n",
      "\n",
      "r TEST 0.34120984947274746\n",
      "\n",
      "KS TEST 0.2659617730784872\n"
     ]
    }
   ],
   "source": [
    "print('MAE of TEST %s' %\n",
    "      metrics.mean_absolute_error(y_test, y_pred))\n",
    "print('\\nMSE of TEST %s' %\n",
    "      metrics.mean_squared_error(y_test, y_pred))\n",
    "print('\\nRMSE of TEST %s' %\n",
    "      sqrt(mean_squared_error(y_test, y_pred)))\n",
    "\n",
    "pearson_coef= stats.pearsonr(y_test, y_pred)\n",
    "print(\"\\nr TEST\", pearson_coef[0])\n",
    "\n",
    "ks= stats.ks_2samp(y_test, y_pred, alternative='two-sided', mode='auto')\n",
    "print('\\nKS TEST', ks[0])"
   ]
  },
  {
   "cell_type": "markdown",
   "metadata": {},
   "source": [
    "### Hyper-parameters tuning"
   ]
  },
  {
   "cell_type": "code",
   "execution_count": 17,
   "metadata": {},
   "outputs": [],
   "source": [
    "from sklearn import linear_model, metrics, preprocessing\n",
    "from sklearn.metrics import mean_squared_error\n",
    "from sklearn.model_selection import GridSearchCV\n",
    "from sklearn.metrics import make_scorer"
   ]
  },
  {
   "cell_type": "code",
   "execution_count": 18,
   "metadata": {},
   "outputs": [],
   "source": [
    "def report(results, n_top=3):\n",
    "    for i in range(1, n_top + 1):\n",
    "        candidates = np.flatnonzero(results['rank_test_score'] == i)\n",
    "        for candidate in candidates:\n",
    "            print(\"Mean validation score: {0:.5f} (std: {1:.5f})\".format(\n",
    "                  results['mean_test_score'][candidate],\n",
    "                  results['std_test_score'][candidate]))\n",
    "            print(\"Parameters: {0}\".format(results['params'][candidate]))\n",
    "            print(\"\")"
   ]
  },
  {
   "cell_type": "code",
   "execution_count": 19,
   "metadata": {},
   "outputs": [
    {
     "name": "stdout",
     "output_type": "stream",
     "text": [
      "Mean validation score: 0.13141 (std: 0.01181)\n",
      "Parameters: {'criterion': 'mse', 'max_depth': 10, 'min_samples_leaf': 200, 'min_samples_split': 2}\n",
      "\n",
      "Mean validation score: 0.13141 (std: 0.01181)\n",
      "Parameters: {'criterion': 'mse', 'max_depth': 10, 'min_samples_leaf': 200, 'min_samples_split': 3}\n",
      "\n",
      "Mean validation score: 0.13141 (std: 0.01181)\n",
      "Parameters: {'criterion': 'mse', 'max_depth': 10, 'min_samples_leaf': 200, 'min_samples_split': 4}\n",
      "\n",
      "Mean validation score: 0.13141 (std: 0.01181)\n",
      "Parameters: {'criterion': 'mse', 'max_depth': 10, 'min_samples_leaf': 200, 'min_samples_split': 5}\n",
      "\n",
      "Mean validation score: 0.13141 (std: 0.01181)\n",
      "Parameters: {'criterion': 'mse', 'max_depth': 10, 'min_samples_leaf': 200, 'min_samples_split': 6}\n",
      "\n",
      "Mean validation score: 0.13141 (std: 0.01181)\n",
      "Parameters: {'criterion': 'mse', 'max_depth': 10, 'min_samples_leaf': 200, 'min_samples_split': 10}\n",
      "\n",
      "Mean validation score: 0.13141 (std: 0.01181)\n",
      "Parameters: {'criterion': 'mse', 'max_depth': 10, 'min_samples_leaf': 200, 'min_samples_split': 20}\n",
      "\n",
      "Mean validation score: 0.13141 (std: 0.01181)\n",
      "Parameters: {'criterion': 'mse', 'max_depth': 20, 'min_samples_leaf': 200, 'min_samples_split': 2}\n",
      "\n",
      "Mean validation score: 0.13141 (std: 0.01181)\n",
      "Parameters: {'criterion': 'mse', 'max_depth': 20, 'min_samples_leaf': 200, 'min_samples_split': 3}\n",
      "\n",
      "Mean validation score: 0.13141 (std: 0.01181)\n",
      "Parameters: {'criterion': 'mse', 'max_depth': 20, 'min_samples_leaf': 200, 'min_samples_split': 4}\n",
      "\n",
      "Mean validation score: 0.13141 (std: 0.01181)\n",
      "Parameters: {'criterion': 'mse', 'max_depth': 20, 'min_samples_leaf': 200, 'min_samples_split': 5}\n",
      "\n",
      "Mean validation score: 0.13141 (std: 0.01181)\n",
      "Parameters: {'criterion': 'mse', 'max_depth': 20, 'min_samples_leaf': 200, 'min_samples_split': 6}\n",
      "\n",
      "Mean validation score: 0.13141 (std: 0.01181)\n",
      "Parameters: {'criterion': 'mse', 'max_depth': 20, 'min_samples_leaf': 200, 'min_samples_split': 10}\n",
      "\n",
      "Mean validation score: 0.13141 (std: 0.01181)\n",
      "Parameters: {'criterion': 'mse', 'max_depth': 20, 'min_samples_leaf': 200, 'min_samples_split': 20}\n",
      "\n",
      "Mean validation score: 0.13141 (std: 0.01181)\n",
      "Parameters: {'criterion': 'mse', 'max_depth': 50, 'min_samples_leaf': 200, 'min_samples_split': 2}\n",
      "\n",
      "Mean validation score: 0.13141 (std: 0.01181)\n",
      "Parameters: {'criterion': 'mse', 'max_depth': 50, 'min_samples_leaf': 200, 'min_samples_split': 3}\n",
      "\n",
      "Mean validation score: 0.13141 (std: 0.01181)\n",
      "Parameters: {'criterion': 'mse', 'max_depth': 50, 'min_samples_leaf': 200, 'min_samples_split': 4}\n",
      "\n",
      "Mean validation score: 0.13141 (std: 0.01181)\n",
      "Parameters: {'criterion': 'mse', 'max_depth': 50, 'min_samples_leaf': 200, 'min_samples_split': 5}\n",
      "\n",
      "Mean validation score: 0.13141 (std: 0.01181)\n",
      "Parameters: {'criterion': 'mse', 'max_depth': 50, 'min_samples_leaf': 200, 'min_samples_split': 6}\n",
      "\n",
      "Mean validation score: 0.13141 (std: 0.01181)\n",
      "Parameters: {'criterion': 'mse', 'max_depth': 50, 'min_samples_leaf': 200, 'min_samples_split': 10}\n",
      "\n",
      "Mean validation score: 0.13141 (std: 0.01181)\n",
      "Parameters: {'criterion': 'mse', 'max_depth': 50, 'min_samples_leaf': 200, 'min_samples_split': 20}\n",
      "\n",
      "Mean validation score: 0.13141 (std: 0.01181)\n",
      "Parameters: {'criterion': 'mse', 'max_depth': 100, 'min_samples_leaf': 200, 'min_samples_split': 2}\n",
      "\n",
      "Mean validation score: 0.13141 (std: 0.01181)\n",
      "Parameters: {'criterion': 'mse', 'max_depth': 100, 'min_samples_leaf': 200, 'min_samples_split': 3}\n",
      "\n",
      "Mean validation score: 0.13141 (std: 0.01181)\n",
      "Parameters: {'criterion': 'mse', 'max_depth': 100, 'min_samples_leaf': 200, 'min_samples_split': 4}\n",
      "\n",
      "Mean validation score: 0.13141 (std: 0.01181)\n",
      "Parameters: {'criterion': 'mse', 'max_depth': 100, 'min_samples_leaf': 200, 'min_samples_split': 5}\n",
      "\n",
      "Mean validation score: 0.13141 (std: 0.01181)\n",
      "Parameters: {'criterion': 'mse', 'max_depth': 100, 'min_samples_leaf': 200, 'min_samples_split': 6}\n",
      "\n",
      "Mean validation score: 0.13141 (std: 0.01181)\n",
      "Parameters: {'criterion': 'mse', 'max_depth': 100, 'min_samples_leaf': 200, 'min_samples_split': 10}\n",
      "\n",
      "Mean validation score: 0.13141 (std: 0.01181)\n",
      "Parameters: {'criterion': 'mse', 'max_depth': 100, 'min_samples_leaf': 200, 'min_samples_split': 20}\n",
      "\n"
     ]
    }
   ],
   "source": [
    "param_list = {\"criterion\": [\"mse\", \"mae\"],\n",
    "              \"min_samples_split\": [2, 3, 4, 5, 6, 10, 20],\n",
    "              \"max_depth\": [2, 5, 6, 10, 20, 50, 100],\n",
    "              \"min_samples_leaf\": [5, 8, 10, 20, 30, 50, 100, 200],\n",
    "              }, \n",
    "\n",
    "grid_search = GridSearchCV(clf, param_grid=param_list, cv=5, n_jobs=1)\n",
    "grid_search.fit(X_train, y_train)\n",
    "report(grid_search.cv_results_, n_top=3)"
   ]
  },
  {
   "cell_type": "code",
   "execution_count": 20,
   "metadata": {},
   "outputs": [
    {
     "data": {
      "text/plain": [
       "DecisionTreeRegressor(max_depth=10, min_samples_leaf=200, random_state=42)"
      ]
     },
     "execution_count": 20,
     "metadata": {},
     "output_type": "execute_result"
    }
   ],
   "source": [
    "grid_search.best_estimator_"
   ]
  },
  {
   "cell_type": "markdown",
   "metadata": {},
   "source": [
    "### Perform best estimator and analyze the results"
   ]
  },
  {
   "cell_type": "code",
   "execution_count": 21,
   "metadata": {},
   "outputs": [],
   "source": [
    "clf = grid_search.best_estimator_\n",
    "\n",
    "y_pred = clf.predict(X_test)\n",
    "y_pred_tr = clf.predict(X_train)"
   ]
  },
  {
   "cell_type": "markdown",
   "metadata": {},
   "source": [
    "- Features importance"
   ]
  },
  {
   "cell_type": "code",
   "execution_count": 22,
   "metadata": {},
   "outputs": [
    {
     "name": "stdout",
     "output_type": "stream",
     "text": [
      "{'Installs': 0.0, 'Price': 0.0, 'Content Rating': 0.0, 'Secondary_Genres': 0.0, 'Is_Family': 0.0, 'Is_Game': 0.0, 'Compatibility': 0.0, 'Both_Stores': 0.0, 'MonthUpdated': 0.0, 'Size': 0.01323421284807424, 'Current Ver': 0.018410494598196474, 'Android Ver': 0.038340753111784524, 'YearUpdated': 0.04860387049751545, 'Main_Genres': 0.052998903512068055, 'Reviews': 0.19761203267704192, 'RTR': 0.6307997327553193}\n"
     ]
    },
    {
     "data": {
      "image/png": "[encoded data removed]",
      "text/plain": [
       "<Figure size 432x288 with 1 Axes>"
      ]
     },
     "metadata": {
      "needs_background": "light"
     },
     "output_type": "display_data"
    }
   ],
   "source": [
    "import matplotlib.pyplot as plt\n",
    "from collections import OrderedDict\n",
    "\n",
    "d={}\n",
    "labels = []\n",
    "sizes = []\n",
    "for col, imp in zip(features, clf.feature_importances_):\n",
    "    d[col]=imp\n",
    "\n",
    "sort_d= {k: v for k, v in sorted(d.items(), key=lambda item: item[1])}\n",
    "print(sort_d)\n",
    "\n",
    "#Plot\n",
    "plt.barh(*zip(*sort_d.items()))\n",
    "plt.show()"
   ]
  },
  {
   "cell_type": "markdown",
   "metadata": {},
   "source": [
    "- Evaluation metrics"
   ]
  },
  {
   "cell_type": "code",
   "execution_count": 23,
   "metadata": {},
   "outputs": [
    {
     "name": "stdout",
     "output_type": "stream",
     "text": [
      "MAE of TEST 0.342266179970681\n",
      "\n",
      "MSE of TEST 0.24737844888356494\n",
      "\n",
      "RMSE of TEST 0.49737154008202455\n",
      "\n",
      "r TEST 0.3713370596488178\n",
      "\n",
      "KS TEST 0.3033753558357056\n"
     ]
    }
   ],
   "source": [
    "print('MAE of TEST %s' %\n",
    "      metrics.mean_absolute_error(y_test, y_pred))\n",
    "print('\\nMSE of TEST %s' %\n",
    "      metrics.mean_squared_error(y_test, y_pred))\n",
    "print('\\nRMSE of TEST %s' %\n",
    "      sqrt(mean_squared_error(y_test, y_pred)))\n",
    "\n",
    "pearson_coef= stats.pearsonr(y_test, y_pred)\n",
    "print(\"\\nr TEST\", pearson_coef[0])\n",
    "\n",
    "ks= stats.ks_2samp(y_test, y_pred, alternative='two-sided', mode='auto')\n",
    "print('\\nKS TEST', ks[0])"
   ]
  },
  {
   "cell_type": "code",
   "execution_count": 32,
   "metadata": {},
   "outputs": [
    {
     "data": {
      "image/png": "[encoded data removed]",
      "text/plain": [
       "<Figure size 432x288 with 1 Axes>"
      ]
     },
     "metadata": {
      "needs_background": "light"
     },
     "output_type": "display_data"
    }
   ],
   "source": [
    "#DTR plot\n",
    "\n",
    "plt.figure()\n",
    "plt.scatter(np.array([item[0] for item in X_train.values]).reshape(X_train.shape[0],), y_train, s=20, edgecolor=\"black\", c=\"darkorange\", label=\"data\")\n",
    "plt.plot(X_test, y_pred, color=\"yellowgreen\")\n",
    "plt.xlabel(\"data\")\n",
    "plt.ylabel(\"target\")\n",
    "plt.title(\"Decision Tree Regressor\")\n",
    "plt.legend()\n",
    "plt.show()"
   ]
  },
  {
   "cell_type": "markdown",
   "metadata": {},
   "source": [
    "### Features selection"
   ]
  },
  {
   "cell_type": "code",
   "execution_count": 51,
   "metadata": {},
   "outputs": [],
   "source": [
    "#Drop meaningless features\n",
    "\n",
    "df_copy.drop(['Installs', 'Price', 'Content Rating', 'Secondary_Genres', 'Is_Family', 'Is_Game', 'Compatibility', 'Both_Stores', 'MonthUpdated', 'Current Ver', 'Size', 'Android Ver'], axis = 1, inplace=True) "
   ]
  },
  {
   "cell_type": "code",
   "execution_count": 52,
   "metadata": {},
   "outputs": [
    {
     "data": {
      "text/html": [
       "<div>\n",
       "<style scoped>\n",
       "    .dataframe tbody tr th:only-of-type {\n",
       "        vertical-align: middle;\n",
       "    }\n",
       "\n",
       "    .dataframe tbody tr th {\n",
       "        vertical-align: top;\n",
       "    }\n",
       "\n",
       "    .dataframe thead th {\n",
       "        text-align: right;\n",
       "    }\n",
       "</style>\n",
       "<table border=\"1\" class=\"dataframe\">\n",
       "  <thead>\n",
       "    <tr style=\"text-align: right;\">\n",
       "      <th></th>\n",
       "      <th>Rating</th>\n",
       "      <th>Reviews</th>\n",
       "      <th>Main_Genres</th>\n",
       "      <th>RTR</th>\n",
       "      <th>YearUpdated</th>\n",
       "    </tr>\n",
       "  </thead>\n",
       "  <tbody>\n",
       "    <tr>\n",
       "      <th>0</th>\n",
       "      <td>4.7</td>\n",
       "      <td>11661</td>\n",
       "      <td>17</td>\n",
       "      <td>0.002914</td>\n",
       "      <td>2018</td>\n",
       "    </tr>\n",
       "    <tr>\n",
       "      <th>1</th>\n",
       "      <td>4.0</td>\n",
       "      <td>19</td>\n",
       "      <td>42</td>\n",
       "      <td>0.000473</td>\n",
       "      <td>2017</td>\n",
       "    </tr>\n",
       "  </tbody>\n",
       "</table>\n",
       "</div>"
      ],
      "text/plain": [
       "   Rating  Reviews  Main_Genres       RTR  YearUpdated\n",
       "0     4.7    11661           17  0.002914         2018\n",
       "1     4.0       19           42  0.000473         2017"
      ]
     },
     "execution_count": 52,
     "metadata": {},
     "output_type": "execute_result"
    }
   ],
   "source": [
    "df_copy.head(2)"
   ]
  },
  {
   "cell_type": "code",
   "execution_count": 53,
   "metadata": {},
   "outputs": [],
   "source": [
    "features = [col for col in df_copy.columns if col != 'Rating']\n",
    "X = df_copy[features].values\n",
    "\n",
    "X = df_copy[features]\n",
    "y = df_copy['Rating']\n",
    "\n",
    "X_train, X_test, y_train, y_test = train_test_split(X, y, \n",
    "                                                    test_size=0.3, \n",
    "                                                    random_state=42, \n",
    "                                                    stratify=y)"
   ]
  },
  {
   "cell_type": "markdown",
   "metadata": {},
   "source": [
    "### Hyper-parameters tuning"
   ]
  },
  {
   "cell_type": "code",
   "execution_count": 54,
   "metadata": {},
   "outputs": [],
   "source": [
    "def report(results, n_top=3):\n",
    "    for i in range(1, n_top + 1):\n",
    "        candidates = np.flatnonzero(results['rank_test_score'] == i)\n",
    "        for candidate in candidates:\n",
    "            print(\"Mean validation score: {0:.5f} (std: {1:.5f})\".format(\n",
    "                  results['mean_test_score'][candidate],\n",
    "                  results['std_test_score'][candidate]))\n",
    "            print(\"Parameters: {0}\".format(results['params'][candidate]))\n",
    "            print(\"\")"
   ]
  },
  {
   "cell_type": "code",
   "execution_count": 55,
   "metadata": {},
   "outputs": [
    {
     "name": "stdout",
     "output_type": "stream",
     "text": [
      "Mean validation score: 0.12804 (std: 0.01727)\n",
      "Parameters: {'criterion': 'mse', 'max_depth': 8, 'min_samples_leaf': 100, 'min_samples_split': 2}\n",
      "\n",
      "Mean validation score: 0.12804 (std: 0.01727)\n",
      "Parameters: {'criterion': 'mse', 'max_depth': 8, 'min_samples_leaf': 100, 'min_samples_split': 3}\n",
      "\n",
      "Mean validation score: 0.12804 (std: 0.01727)\n",
      "Parameters: {'criterion': 'mse', 'max_depth': 8, 'min_samples_leaf': 100, 'min_samples_split': 4}\n",
      "\n",
      "Mean validation score: 0.12804 (std: 0.01727)\n",
      "Parameters: {'criterion': 'mse', 'max_depth': 8, 'min_samples_leaf': 100, 'min_samples_split': 5}\n",
      "\n",
      "Mean validation score: 0.12804 (std: 0.01727)\n",
      "Parameters: {'criterion': 'mse', 'max_depth': 8, 'min_samples_leaf': 100, 'min_samples_split': 6}\n",
      "\n"
     ]
    }
   ],
   "source": [
    "param_list = {\"criterion\": [\"mse\", \"mae\"],\n",
    "              \"min_samples_split\": [2, 3, 4, 5, 6],\n",
    "              \"max_depth\": [2, 5, 6, 7, 8, 10, 20],\n",
    "              \"min_samples_leaf\": [5, 10, 50, 100, 200, 250],\n",
    "              }, \n",
    "\n",
    "grid_search = GridSearchCV(clf, param_grid=param_list, cv=5, n_jobs=1)\n",
    "grid_search.fit(X_train, y_train)\n",
    "report(grid_search.cv_results_, n_top=3)"
   ]
  },
  {
   "cell_type": "code",
   "execution_count": 56,
   "metadata": {},
   "outputs": [
    {
     "data": {
      "text/plain": [
       "DecisionTreeRegressor(max_depth=8, min_samples_leaf=100, random_state=42)"
      ]
     },
     "execution_count": 56,
     "metadata": {},
     "output_type": "execute_result"
    }
   ],
   "source": [
    "grid_search.best_estimator_"
   ]
  },
  {
   "cell_type": "markdown",
   "metadata": {},
   "source": [
    "### Perform best estimator and analyze the results"
   ]
  },
  {
   "cell_type": "code",
   "execution_count": 57,
   "metadata": {},
   "outputs": [],
   "source": [
    "clf = grid_search.best_estimator_\n",
    "\n",
    "y_pred = clf.predict(X_test)\n",
    "y_pred_tr = clf.predict(X_train)"
   ]
  },
  {
   "cell_type": "code",
   "execution_count": 58,
   "metadata": {},
   "outputs": [
    {
     "name": "stdout",
     "output_type": "stream",
     "text": [
      "{'YearUpdated': 0.04854555425408849, 'Main_Genres': 0.16480976097693714, 'Reviews': 0.21155638157938464, 'RTR': 0.5750883031895896}\n"
     ]
    },
    {
     "data": {
      "image/png": "[encoded data removed]",
      "text/plain": [
       "<Figure size 432x288 with 1 Axes>"
      ]
     },
     "metadata": {
      "needs_background": "light"
     },
     "output_type": "display_data"
    }
   ],
   "source": [
    "import matplotlib.pyplot as plt\n",
    "from collections import OrderedDict\n",
    "\n",
    "d={}\n",
    "labels = []\n",
    "sizes = []\n",
    "for col, imp in zip(features, clf.feature_importances_):\n",
    "    d[col]=imp\n",
    "\n",
    "sort_d= {k: v for k, v in sorted(d.items(), key=lambda item: item[1])}\n",
    "print(sort_d)\n",
    "\n",
    "#Plot\n",
    "plt.barh(*zip(*sort_d.items()))\n",
    "plt.show()"
   ]
  },
  {
   "cell_type": "code",
   "execution_count": 59,
   "metadata": {},
   "outputs": [
    {
     "name": "stdout",
     "output_type": "stream",
     "text": [
      "MAE of TEST 0.34678322555147917\n",
      "\n",
      "MSE of TEST 0.2503720327161822\n",
      "\n",
      "RMSE of TEST 0.5003718944107295\n",
      "\n",
      "r TEST 0.36043622133800524\n",
      "\n",
      "KS TEST 0.2488816592110614\n"
     ]
    }
   ],
   "source": [
    "print('MAE of TEST %s' %\n",
    "      metrics.mean_absolute_error(y_test, y_pred))\n",
    "print('\\nMSE of TEST %s' %\n",
    "      metrics.mean_squared_error(y_test, y_pred))\n",
    "print('\\nRMSE of TEST %s' %\n",
    "      sqrt(mean_squared_error(y_test, y_pred)))\n",
    "\n",
    "pearson_coef= stats.pearsonr(y_test, y_pred)\n",
    "print(\"\\nr TEST\", pearson_coef[0])\n",
    "\n",
    "ks= stats.ks_2samp(y_test, y_pred, alternative='two-sided', mode='auto')\n",
    "print('\\nKS TEST', ks[0])"
   ]
  },
  {
   "cell_type": "code",
   "execution_count": 60,
   "metadata": {
    "scrolled": true
   },
   "outputs": [
    {
     "data": {
      "image/png": "[encoded data removed]",
      "text/plain": [
       "<Figure size 432x288 with 1 Axes>"
      ]
     },
     "metadata": {
      "needs_background": "light"
     },
     "output_type": "display_data"
    }
   ],
   "source": [
    "#DTR plot\n",
    "\n",
    "plt.figure()\n",
    "plt.scatter(np.array([item[0] for item in X_train.values]).reshape(X_train.shape[0],), y_train, s=20, edgecolor=\"black\", c=\"darkorange\", label=\"data\")\n",
    "plt.plot(X_test, y_pred, color=\"yellowgreen\")\n",
    "plt.xlabel(\"data\")\n",
    "plt.ylabel(\"target\")\n",
    "plt.title(\"Decision Tree Regressor\")\n",
    "plt.legend()\n",
    "plt.show()"
   ]
  },
  {
   "cell_type": "code",
   "execution_count": 61,
   "metadata": {},
   "outputs": [],
   "source": [
    "import pydotplus\n",
    "from sklearn import tree\n",
    "from IPython.display import Image"
   ]
  },
  {
   "cell_type": "code",
   "execution_count": 62,
   "metadata": {},
   "outputs": [
    {
     "data": {
      "text/plain": [
       "True"
      ]
     },
     "execution_count": 62,
     "metadata": {},
     "output_type": "execute_result"
    }
   ],
   "source": [
    "dot_data = tree.export_graphviz(clf, out_file=None,\n",
    "                                feature_names=features,  \n",
    "                                filled=True, rounded=True,\n",
    "                                special_characters=True,\n",
    "                                max_depth=3)  \n",
    "pydot_graph = pydotplus.graph_from_dot_data(dot_data)  \n",
    "pydot_graph  = pydotplus.graph_from_dot_data(dot_data)  \n",
    "pydot_graph.write_png('original_tree2.png')\n",
    "pydot_graph.set_size('\"10,10!\"')\n",
    "pydot_graph.write_png('resized_tree2.png')"
   ]
  },
  {
   "cell_type": "code",
   "execution_count": null,
   "metadata": {},
   "outputs": [],
   "source": []
  },
  {
   "cell_type": "code",
   "execution_count": null,
   "metadata": {},
   "outputs": [],
   "source": []
  }
 ],
 "metadata": {
  "kernelspec": {
   "display_name": "Python 3",
   "language": "python",
   "name": "python3"
  },
  "language_info": {
   "codemirror_mode": {
    "name": "ipython",
    "version": 3
   },
   "file_extension": ".py",
   "mimetype": "text/x-python",
   "name": "python",
   "nbconvert_exporter": "python",
   "pygments_lexer": "ipython3",
   "version": "3.7.7"
  }
 },
 "nbformat": 4,
 "nbformat_minor": 4
}
