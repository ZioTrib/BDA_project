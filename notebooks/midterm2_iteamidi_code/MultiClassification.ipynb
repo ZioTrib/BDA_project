{
 "cells": [
  {
   "cell_type": "code",
   "execution_count": 1,
   "metadata": {},
   "outputs": [],
   "source": [
    "%matplotlib inline\n",
    "import numpy as np\n",
    "import pandas as pd\n",
    "import matplotlib.pyplot as plt\n",
    "import plotly.express as px\n",
    "import plotly.offline as pyo\n",
    "import plotly.graph_objects as go\n",
    "from plotly.subplots import make_subplots\n",
    "from sklearn.preprocessing import MinMaxScaler\n",
    "#pyo.init_notebook_mode()"
   ]
  },
  {
   "cell_type": "code",
   "execution_count": 2,
   "metadata": {},
   "outputs": [],
   "source": [
    "apps = pd.read_csv('data_cleaned.csv')"
   ]
  },
  {
   "cell_type": "code",
   "execution_count": 3,
   "metadata": {},
   "outputs": [],
   "source": [
    "rev = pd.read_csv(r'C:\\Users\\User\\Desktop\\Università\\BigDataAnalytics\\ProgettoBDA\\datasets\\googleplaystore_user_reviews.csv')\n",
    "rev['App'] = rev['App'].str.upper()"
   ]
  },
  {
   "cell_type": "code",
   "execution_count": 4,
   "metadata": {},
   "outputs": [],
   "source": [
    "rev.drop_duplicates(subset = 'App', keep = 'first', inplace = True)"
   ]
  },
  {
   "cell_type": "code",
   "execution_count": 5,
   "metadata": {},
   "outputs": [
    {
     "data": {
      "text/plain": [
       "4.3    895\n",
       "4.4    894\n",
       "4.5    851\n",
       "4.2    812\n",
       "4.6    684\n",
       "4.1    623\n",
       "4.0    513\n",
       "4.7    439\n",
       "3.9    359\n",
       "3.8    286\n",
       "5.0    271\n",
       "3.7    224\n",
       "4.8    220\n",
       "3.6    167\n",
       "3.5    156\n",
       "3.4    126\n",
       "3.3    100\n",
       "4.9     85\n",
       "3.0     81\n",
       "3.1     69\n",
       "3.2     63\n",
       "2.9     45\n",
       "2.8     40\n",
       "2.7     23\n",
       "2.6     23\n",
       "2.3     20\n",
       "2.5     20\n",
       "2.4     19\n",
       "1.0     16\n",
       "2.2     14\n",
       "2.0     12\n",
       "1.9     12\n",
       "1.8      8\n",
       "2.1      8\n",
       "1.7      8\n",
       "1.6      4\n",
       "1.4      3\n",
       "1.5      3\n",
       "1.2      1\n",
       "Name: Rating, dtype: int64"
      ]
     },
     "execution_count": 5,
     "metadata": {},
     "output_type": "execute_result"
    }
   ],
   "source": [
    "apps['Rating'].value_counts()"
   ]
  },
  {
   "cell_type": "code",
   "execution_count": 6,
   "metadata": {},
   "outputs": [],
   "source": [
    "#remove the single record with Rating = 1.2 because the split into train and test doesn't support an y_class with only 1 record\n",
    "apps = apps[apps['Rating'] != 1.2].reset_index(drop = True)"
   ]
  },
  {
   "cell_type": "code",
   "execution_count": 7,
   "metadata": {},
   "outputs": [
    {
     "name": "stdout",
     "output_type": "stream",
     "text": [
      "<class 'pandas.core.frame.DataFrame'>\n",
      "RangeIndex: 8196 entries, 0 to 8195\n",
      "Data columns (total 17 columns):\n",
      " #   Column            Non-Null Count  Dtype  \n",
      "---  ------            --------------  -----  \n",
      " 0   App               8196 non-null   object \n",
      " 1   Rating            8196 non-null   float64\n",
      " 2   Reviews           8196 non-null   int64  \n",
      " 3   Size              8196 non-null   float64\n",
      " 4   Installs          8196 non-null   object \n",
      " 5   Price             8196 non-null   float64\n",
      " 6   Content Rating    8196 non-null   object \n",
      " 7   Last Updated      8196 non-null   object \n",
      " 8   Current Ver       8196 non-null   object \n",
      " 9   Android Ver       8196 non-null   object \n",
      " 10  Main_Genres       8196 non-null   object \n",
      " 11  Secondary_Genres  8196 non-null   object \n",
      " 12  Is_Family         8196 non-null   int64  \n",
      " 13  Is_Game           8196 non-null   int64  \n",
      " 14  Compatibility     8196 non-null   object \n",
      " 15  RTR               8196 non-null   float64\n",
      " 16  Both_Stores       8196 non-null   int64  \n",
      "dtypes: float64(4), int64(4), object(9)\n",
      "memory usage: 1.1+ MB\n"
     ]
    }
   ],
   "source": [
    "apps.info()"
   ]
  },
  {
   "cell_type": "code",
   "execution_count": 8,
   "metadata": {},
   "outputs": [],
   "source": [
    "#compute Sentiment Polarity Mean per app\n",
    "rev['SentimentPolarityMean'] = rev.groupby(['App'])['Sentiment_Polarity'].transform(lambda x: x.mean())"
   ]
  },
  {
   "cell_type": "code",
   "execution_count": 9,
   "metadata": {},
   "outputs": [],
   "source": [
    "rev = rev.sort_values(by=['App', 'SentimentPolarityMean'], ascending=False)"
   ]
  },
  {
   "cell_type": "code",
   "execution_count": 10,
   "metadata": {},
   "outputs": [],
   "source": [
    "#merge the two datasets with a left join to maintain apps in the Google Play Store\n",
    "apps = pd.merge(apps, rev[['App', 'SentimentPolarityMean']], on = 'App', how = 'left')"
   ]
  },
  {
   "cell_type": "code",
   "execution_count": 11,
   "metadata": {},
   "outputs": [],
   "source": [
    "#substitute missing values with 999 to preserve the type numeric of the variable\n",
    "apps['SentimentPolarityMean'].fillna(999, inplace = True)"
   ]
  },
  {
   "cell_type": "code",
   "execution_count": 12,
   "metadata": {},
   "outputs": [],
   "source": [
    "apps = apps.drop(columns = 'App')   #app name is not relevant as feature, because such an ID"
   ]
  },
  {
   "cell_type": "code",
   "execution_count": 13,
   "metadata": {},
   "outputs": [
    {
     "data": {
      "text/plain": [
       "0       14-07-2018\n",
       "1       21-10-2017\n",
       "2       24-07-2018\n",
       "3       11-03-2018\n",
       "4       17-11-2017\n",
       "           ...    \n",
       "8191    06-07-2018\n",
       "8192    03-07-2018\n",
       "8193    16-09-2014\n",
       "8194    13-07-2018\n",
       "8195    02-08-2018\n",
       "Name: Last Updated, Length: 8196, dtype: object"
      ]
     },
     "execution_count": 13,
     "metadata": {},
     "output_type": "execute_result"
    }
   ],
   "source": [
    "apps['Last Updated']"
   ]
  },
  {
   "cell_type": "code",
   "execution_count": 14,
   "metadata": {},
   "outputs": [],
   "source": [
    "#split Last Updated into Year, Month and Day\n",
    "apps['YearUpdated'], apps['MonthUpdated'], apps['DayUpdated'] = pd.to_datetime(apps['Last Updated']).dt.year, pd.to_datetime(apps['Last Updated']).dt.month, pd.to_datetime(apps['Last Updated']).dt.day"
   ]
  },
  {
   "cell_type": "code",
   "execution_count": 15,
   "metadata": {},
   "outputs": [],
   "source": [
    "apps = apps.drop(columns = 'Last Updated') #app name is redundant"
   ]
  },
  {
   "cell_type": "code",
   "execution_count": 16,
   "metadata": {},
   "outputs": [],
   "source": [
    "categorical_attrs = ['Installs', 'Content Rating', 'Current Ver', 'Android Ver', 'Main_Genres',\n",
    "       'Secondary_Genres', 'Compatibility']\n",
    "numerical_attrs = ['Reviews', 'Size', 'Price', 'SentimentPolarityMean']"
   ]
  },
  {
   "cell_type": "code",
   "execution_count": 17,
   "metadata": {},
   "outputs": [],
   "source": [
    "#scale numerical attributes in order to have a range [0,1]\n",
    "scaler = MinMaxScaler()\n",
    "scaler.fit(apps[numerical_attrs])\n",
    "apps[numerical_attrs] = scaler.transform(apps[numerical_attrs])"
   ]
  },
  {
   "cell_type": "markdown",
   "metadata": {},
   "source": [
    "# Label Encoding for categorical attributes"
   ]
  },
  {
   "cell_type": "code",
   "execution_count": 18,
   "metadata": {},
   "outputs": [],
   "source": [
    "from sklearn.preprocessing import LabelEncoder\n",
    "from keras.utils import np_utils"
   ]
  },
  {
   "cell_type": "code",
   "execution_count": 19,
   "metadata": {},
   "outputs": [
    {
     "data": {
      "text/plain": [
       "Index(['Rating', 'Reviews', 'Size', 'Installs', 'Price', 'Content Rating',\n",
       "       'Current Ver', 'Android Ver', 'Main_Genres', 'Secondary_Genres',\n",
       "       'Is_Family', 'Is_Game', 'Compatibility', 'RTR', 'Both_Stores',\n",
       "       'SentimentPolarityMean', 'YearUpdated', 'MonthUpdated', 'DayUpdated'],\n",
       "      dtype='object')"
      ]
     },
     "execution_count": 19,
     "metadata": {},
     "output_type": "execute_result"
    }
   ],
   "source": [
    "apps.columns"
   ]
  },
  {
   "cell_type": "code",
   "execution_count": 20,
   "metadata": {},
   "outputs": [],
   "source": [
    "#encode categorical attributes to deal with it\n",
    "apps[categorical_attrs] = apps[categorical_attrs].apply(LabelEncoder().fit_transform)"
   ]
  },
  {
   "cell_type": "code",
   "execution_count": 21,
   "metadata": {},
   "outputs": [],
   "source": [
    "#divide dependent and independent variables\n",
    "class_name = 'Rating'\n",
    "attributes = [col for col in apps.columns if col != class_name]\n",
    "X = apps[attributes].values\n",
    "y = apps[class_name]"
   ]
  },
  {
   "cell_type": "code",
   "execution_count": 22,
   "metadata": {},
   "outputs": [],
   "source": [
    "# encode class values as integers\n",
    "encoder = LabelEncoder()\n",
    "encoder.fit(y)\n",
    "y = encoder.transform(y)\n",
    "\n",
    "# convert integers to dummy variables (i.e. one hot encoded)\n",
    "y_dummies = np_utils.to_categorical(y)"
   ]
  },
  {
   "cell_type": "code",
   "execution_count": 23,
   "metadata": {},
   "outputs": [
    {
     "data": {
      "text/plain": [
       "array([[0., 0., 0., ..., 0., 0., 0.],\n",
       "       [0., 0., 0., ..., 0., 0., 0.],\n",
       "       [0., 0., 0., ..., 0., 0., 0.],\n",
       "       ...,\n",
       "       [0., 0., 0., ..., 0., 0., 0.],\n",
       "       [0., 0., 0., ..., 0., 0., 0.],\n",
       "       [0., 0., 0., ..., 0., 0., 0.]], dtype=float32)"
      ]
     },
     "execution_count": 23,
     "metadata": {},
     "output_type": "execute_result"
    }
   ],
   "source": [
    "y_dummies"
   ]
  },
  {
   "cell_type": "code",
   "execution_count": 24,
   "metadata": {},
   "outputs": [
    {
     "name": "stdout",
     "output_type": "stream",
     "text": [
      "<class 'pandas.core.frame.DataFrame'>\n",
      "Int64Index: 8196 entries, 0 to 8195\n",
      "Data columns (total 19 columns):\n",
      " #   Column                 Non-Null Count  Dtype  \n",
      "---  ------                 --------------  -----  \n",
      " 0   Rating                 8196 non-null   float64\n",
      " 1   Reviews                8196 non-null   float64\n",
      " 2   Size                   8196 non-null   float64\n",
      " 3   Installs               8196 non-null   int32  \n",
      " 4   Price                  8196 non-null   float64\n",
      " 5   Content Rating         8196 non-null   int32  \n",
      " 6   Current Ver            8196 non-null   int32  \n",
      " 7   Android Ver            8196 non-null   int32  \n",
      " 8   Main_Genres            8196 non-null   int32  \n",
      " 9   Secondary_Genres       8196 non-null   int32  \n",
      " 10  Is_Family              8196 non-null   int64  \n",
      " 11  Is_Game                8196 non-null   int64  \n",
      " 12  Compatibility          8196 non-null   int32  \n",
      " 13  RTR                    8196 non-null   float64\n",
      " 14  Both_Stores            8196 non-null   int64  \n",
      " 15  SentimentPolarityMean  8196 non-null   float64\n",
      " 16  YearUpdated            8196 non-null   int64  \n",
      " 17  MonthUpdated           8196 non-null   int64  \n",
      " 18  DayUpdated             8196 non-null   int64  \n",
      "dtypes: float64(6), int32(7), int64(6)\n",
      "memory usage: 1.0 MB\n"
     ]
    }
   ],
   "source": [
    "apps.info()"
   ]
  },
  {
   "cell_type": "markdown",
   "metadata": {},
   "source": [
    "# Splitting in training and test sets"
   ]
  },
  {
   "cell_type": "code",
   "execution_count": 25,
   "metadata": {},
   "outputs": [],
   "source": [
    "from sklearn.model_selection import train_test_split"
   ]
  },
  {
   "cell_type": "code",
   "execution_count": 26,
   "metadata": {},
   "outputs": [],
   "source": [
    "X_tr, X_ts, y_tr, y_ts = train_test_split(X, y, test_size=0.3, random_state=42, stratify=y)"
   ]
  },
  {
   "cell_type": "code",
   "execution_count": 27,
   "metadata": {},
   "outputs": [],
   "source": [
    "X_train, X_test, y_train, y_test = train_test_split(X, y_dummies, test_size=0.3, random_state=42, stratify=y)"
   ]
  },
  {
   "cell_type": "code",
   "execution_count": 28,
   "metadata": {},
   "outputs": [
    {
     "data": {
      "text/plain": [
       "((5737, 18), (5737, 38))"
      ]
     },
     "execution_count": 28,
     "metadata": {},
     "output_type": "execute_result"
    }
   ],
   "source": [
    "X_train.shape, y_train.shape"
   ]
  },
  {
   "cell_type": "code",
   "execution_count": 29,
   "metadata": {},
   "outputs": [
    {
     "data": {
      "text/plain": [
       "array([[0., 0., 0., ..., 0., 0., 0.],\n",
       "       [0., 0., 0., ..., 1., 0., 0.],\n",
       "       [0., 0., 0., ..., 0., 0., 0.],\n",
       "       ...,\n",
       "       [0., 0., 0., ..., 0., 0., 0.],\n",
       "       [0., 0., 0., ..., 0., 0., 1.],\n",
       "       [0., 0., 0., ..., 0., 0., 0.]], dtype=float32)"
      ]
     },
     "execution_count": 29,
     "metadata": {},
     "output_type": "execute_result"
    }
   ],
   "source": [
    "y_train"
   ]
  },
  {
   "cell_type": "markdown",
   "metadata": {},
   "source": [
    "# Features selection"
   ]
  },
  {
   "cell_type": "code",
   "execution_count": 30,
   "metadata": {},
   "outputs": [],
   "source": [
    "from sklearn.feature_selection import SelectKBest\n",
    "from sklearn.feature_selection import f_classif"
   ]
  },
  {
   "cell_type": "code",
   "execution_count": 31,
   "metadata": {},
   "outputs": [],
   "source": [
    "# configure to select all features\n",
    "fs = SelectKBest(score_func=f_classif, k='all')\n",
    "# learn relationship from training data\n",
    "fs.fit(X_tr, y_tr)\n",
    "# transform train input data\n",
    "X_train_fs = fs.transform(X_tr)\n",
    "# transform test input data\n",
    "X_test_fs = fs.transform(X_ts)"
   ]
  },
  {
   "cell_type": "code",
   "execution_count": 32,
   "metadata": {},
   "outputs": [
    {
     "data": {
      "text/plain": [
       "((5737, 18), (2459, 18))"
      ]
     },
     "execution_count": 32,
     "metadata": {},
     "output_type": "execute_result"
    }
   ],
   "source": [
    "X_train_fs.shape, X_test_fs.shape"
   ]
  },
  {
   "cell_type": "code",
   "execution_count": 33,
   "metadata": {},
   "outputs": [
    {
     "name": "stdout",
     "output_type": "stream",
     "text": [
      "Feature 0: 1.440852\n",
      "Feature 1: 1.439053\n",
      "Feature 2: 5.820666\n",
      "Feature 3: 0.865673\n",
      "Feature 4: 1.435099\n",
      "Feature 5: 7.101110\n",
      "Feature 6: 2.458660\n",
      "Feature 7: 1.370264\n",
      "Feature 8: 1.547914\n",
      "Feature 9: 1.138837\n",
      "Feature 10: 2.034049\n",
      "Feature 11: 2.572965\n",
      "Feature 12: 16.636340\n",
      "Feature 13: 2.417239\n",
      "Feature 14: 1.926064\n",
      "Feature 15: 4.589152\n",
      "Feature 16: 1.170595\n",
      "Feature 17: 0.999563\n"
     ]
    },
    {
     "data": {
      "image/png": "[encoded data removed]",
      "text/plain": [
       "<Figure size 432x288 with 1 Axes>"
      ]
     },
     "metadata": {
      "needs_background": "light"
     },
     "output_type": "display_data"
    }
   ],
   "source": [
    "# what are scores for the features\n",
    "for i in range(len(fs.scores_)):\n",
    "\tprint('Feature %d: %f' % (i, fs.scores_[i]))\n",
    "# plot the scores\n",
    "plt.bar([i for i in range(len(fs.scores_))], fs.scores_)\n",
    "plt.xticks(np.arange(len(fs.scores_)),apps.columns[1:], rotation=90)\n",
    "plt.show()"
   ]
  },
  {
   "cell_type": "code",
   "execution_count": 34,
   "metadata": {},
   "outputs": [],
   "source": [
    "#drop attributes with f-score < 1.0\n",
    "apps_red = apps.drop(columns = ['Price', 'DayUpdated'])"
   ]
  },
  {
   "cell_type": "code",
   "execution_count": 35,
   "metadata": {},
   "outputs": [
    {
     "data": {
      "text/plain": [
       "Index(['Rating', 'Reviews', 'Size', 'Installs', 'Content Rating',\n",
       "       'Current Ver', 'Android Ver', 'Main_Genres', 'Secondary_Genres',\n",
       "       'Is_Family', 'Is_Game', 'Compatibility', 'RTR', 'Both_Stores',\n",
       "       'SentimentPolarityMean', 'YearUpdated', 'MonthUpdated'],\n",
       "      dtype='object')"
      ]
     },
     "execution_count": 35,
     "metadata": {},
     "output_type": "execute_result"
    }
   ],
   "source": [
    "apps_red.columns"
   ]
  },
  {
   "cell_type": "code",
   "execution_count": 36,
   "metadata": {},
   "outputs": [],
   "source": [
    "class_name = 'Rating'\n",
    "attributes = [col for col in apps_red.columns if col != class_name]\n",
    "X_red = apps_red[attributes].values\n",
    "y_red = apps_red[class_name]"
   ]
  },
  {
   "cell_type": "code",
   "execution_count": 37,
   "metadata": {},
   "outputs": [],
   "source": [
    "# encode class values as integers\n",
    "encoder_red = LabelEncoder()\n",
    "encoder_red.fit(y_red)\n",
    "y_red = encoder_red.transform(y_red)\n",
    "\n",
    "# convert integers to dummy variables (i.e. one hot encoded)\n",
    "y_dumm_red = np_utils.to_categorical(y_red)"
   ]
  },
  {
   "cell_type": "code",
   "execution_count": 38,
   "metadata": {},
   "outputs": [
    {
     "data": {
      "text/plain": [
       "array([ 0,  1,  2,  3,  4,  5,  6,  7,  8,  9, 10, 11, 12, 13, 14, 15, 16,\n",
       "       17, 18, 19, 20, 21, 22, 23, 24, 25, 26, 27, 28, 29, 30, 31, 32, 33,\n",
       "       34, 35, 36, 37], dtype=int64)"
      ]
     },
     "execution_count": 38,
     "metadata": {},
     "output_type": "execute_result"
    }
   ],
   "source": [
    "np.unique(y_red)"
   ]
  },
  {
   "cell_type": "code",
   "execution_count": 39,
   "metadata": {},
   "outputs": [],
   "source": [
    "X_train_red, X_test_red, y_train_red, y_test_red = train_test_split(X_red, y_dumm_red, test_size=0.3, random_state=42, stratify=y_dumm_red)"
   ]
  },
  {
   "cell_type": "code",
   "execution_count": 40,
   "metadata": {},
   "outputs": [],
   "source": [
    "n_features_red = X_train_red.shape[1]\n",
    "n_train_example_red = X_train_red.shape[0]\n",
    "n_test_example_red = X_test_red.shape[0]"
   ]
  },
  {
   "cell_type": "code",
   "execution_count": 41,
   "metadata": {},
   "outputs": [
    {
     "name": "stdout",
     "output_type": "stream",
     "text": [
      "Number of features:  16\n",
      "Number of train example:  5737\n",
      "Number of test example:  2459\n"
     ]
    }
   ],
   "source": [
    "print('Number of features: ', n_features_red)\n",
    "print('Number of train example: ', n_train_example_red)\n",
    "print('Number of test example: ', n_test_example_red)"
   ]
  },
  {
   "cell_type": "markdown",
   "metadata": {},
   "source": [
    "# Model_1"
   ]
  },
  {
   "cell_type": "code",
   "execution_count": 42,
   "metadata": {},
   "outputs": [],
   "source": [
    "from sklearn.metrics import r2_score\n",
    "from sklearn.metrics import mean_squared_error as mse\n",
    "from sklearn.metrics import mean_absolute_error as mae\n",
    "from math import sqrt\n",
    "from scipy.stats import pearsonr, ks_2samp\n",
    "from keras.models import Sequential\n",
    "from keras.layers import Input, Conv1D, MaxPool1D, Flatten, Dense, BatchNormalization, Dropout\n",
    "from keras.layers import merge\n",
    "from keras.layers.merge import concatenate\n",
    "from keras import Model\n",
    "from keras.optimizers import SGD\n",
    "import pydot\n",
    "from keras.utils.vis_utils import plot_model"
   ]
  },
  {
   "cell_type": "code",
   "execution_count": 43,
   "metadata": {},
   "outputs": [],
   "source": [
    "cat_df = apps_red[['Rating', 'Secondary_Genres', 'Main_Genres', 'Current Ver', 'Android Ver',\n",
    "                   'Is_Family', 'Is_Game', 'Both_Stores', 'Content Rating']]\n",
    "ord_df = apps_red[['Rating', 'Installs', 'Compatibility', 'YearUpdated', 'MonthUpdated']]\n",
    "num_df = apps_red[['Rating', 'RTR', 'Size', 'Reviews', 'SentimentPolarityMean']]"
   ]
  },
  {
   "cell_type": "code",
   "execution_count": 44,
   "metadata": {},
   "outputs": [],
   "source": [
    "class_name = 'Rating'\n",
    "attributes = [col for col in ord_df.columns if col != class_name]\n",
    "X_ord = ord_df[attributes].values\n",
    "y_ord = ord_df[class_name]"
   ]
  },
  {
   "cell_type": "code",
   "execution_count": 45,
   "metadata": {},
   "outputs": [],
   "source": [
    "# encode class values as integers\n",
    "encoder_ord = LabelEncoder()\n",
    "encoder_ord.fit(y_ord)\n",
    "y_ord = encoder_ord.transform(y_ord)\n",
    "\n",
    "# convert integers to dummy variables (i.e. one hot encoded)\n",
    "y_dumm_ord = np_utils.to_categorical(y_ord)"
   ]
  },
  {
   "cell_type": "code",
   "execution_count": 46,
   "metadata": {},
   "outputs": [
    {
     "data": {
      "text/plain": [
       "array([ 0,  1,  2,  3,  4,  5,  6,  7,  8,  9, 10, 11, 12, 13, 14, 15, 16,\n",
       "       17, 18, 19, 20, 21, 22, 23, 24, 25, 26, 27, 28, 29, 30, 31, 32, 33,\n",
       "       34, 35, 36, 37], dtype=int64)"
      ]
     },
     "execution_count": 46,
     "metadata": {},
     "output_type": "execute_result"
    }
   ],
   "source": [
    "np.unique(y_ord)"
   ]
  },
  {
   "cell_type": "code",
   "execution_count": 47,
   "metadata": {},
   "outputs": [],
   "source": [
    "Xord_train, Xord_test, yord_train, yord_test = train_test_split(X_ord, y_dumm_ord, test_size=0.3, random_state=42, stratify=y_dumm_ord)"
   ]
  },
  {
   "cell_type": "code",
   "execution_count": 48,
   "metadata": {},
   "outputs": [],
   "source": [
    "n_features_ord = Xord_train.shape[1]\n",
    "n_train_example_ord = Xord_train.shape[0]\n",
    "n_test_example_ord = Xord_test.shape[0]"
   ]
  },
  {
   "cell_type": "code",
   "execution_count": 49,
   "metadata": {},
   "outputs": [
    {
     "name": "stdout",
     "output_type": "stream",
     "text": [
      "Number of features:  4\n",
      "Number of train example:  5737\n",
      "Number of test example:  2459\n"
     ]
    }
   ],
   "source": [
    "print('Number of features: ', n_features_ord)\n",
    "print('Number of train example: ', n_train_example_ord)\n",
    "print('Number of test example: ', n_test_example_ord)"
   ]
  },
  {
   "cell_type": "code",
   "execution_count": 50,
   "metadata": {},
   "outputs": [],
   "source": [
    "class_name = 'Rating'\n",
    "attributes = [col for col in cat_df.columns if col != class_name]\n",
    "X_cat = cat_df[attributes].values\n",
    "y_cat = cat_df[class_name]"
   ]
  },
  {
   "cell_type": "code",
   "execution_count": 51,
   "metadata": {},
   "outputs": [],
   "source": [
    "# encode class values as integers\n",
    "encoder_cat = LabelEncoder()\n",
    "encoder_cat.fit(y_cat)\n",
    "y_cat = encoder_cat.transform(y_cat)\n",
    "\n",
    "# convert integers to dummy variables (i.e. one hot encoded)\n",
    "y_dumm_cat = np_utils.to_categorical(y_cat)"
   ]
  },
  {
   "cell_type": "code",
   "execution_count": 52,
   "metadata": {},
   "outputs": [],
   "source": [
    "Xcat_train, Xcat_test, ycat_train, ycat_test = train_test_split(X_cat, y_dumm_cat, test_size=0.3, random_state=42, stratify=y_dumm_cat)"
   ]
  },
  {
   "cell_type": "code",
   "execution_count": 53,
   "metadata": {},
   "outputs": [],
   "source": [
    "n_features_cat = Xcat_train.shape[1]\n",
    "n_train_example_cat = Xcat_train.shape[0]\n",
    "n_test_example_cat = Xcat_test.shape[0]"
   ]
  },
  {
   "cell_type": "code",
   "execution_count": 54,
   "metadata": {},
   "outputs": [
    {
     "name": "stdout",
     "output_type": "stream",
     "text": [
      "Number of features:  8\n",
      "Number of train example:  5737\n",
      "Number of test example:  2459\n"
     ]
    }
   ],
   "source": [
    "print('Number of features: ', n_features_cat)\n",
    "print('Number of train example: ', n_train_example_cat)\n",
    "print('Number of test example: ', n_test_example_cat)"
   ]
  },
  {
   "cell_type": "code",
   "execution_count": 55,
   "metadata": {},
   "outputs": [],
   "source": [
    "class_name = 'Rating'\n",
    "attributes = [col for col in num_df.columns if col != class_name]\n",
    "X_num = num_df[attributes].values\n",
    "y_num = num_df[class_name]"
   ]
  },
  {
   "cell_type": "code",
   "execution_count": 56,
   "metadata": {},
   "outputs": [],
   "source": [
    "# encode class values as integers\n",
    "encoder_num = LabelEncoder()\n",
    "encoder_num.fit(y_num)\n",
    "y_num = encoder_num.transform(y_num)\n",
    "\n",
    "# convert integers to dummy variables (i.e. one hot encoded)\n",
    "y_dumm_num = np_utils.to_categorical(y_num)"
   ]
  },
  {
   "cell_type": "code",
   "execution_count": 57,
   "metadata": {},
   "outputs": [],
   "source": [
    "Xnum_train, Xnum_test, ynum_train, ynum_test = train_test_split(X_num, y_dumm_num, test_size=0.3, random_state=42, stratify=y_dumm_num)"
   ]
  },
  {
   "cell_type": "code",
   "execution_count": 58,
   "metadata": {},
   "outputs": [],
   "source": [
    "n_features_num = Xnum_train.shape[1]\n",
    "n_train_example_num = Xnum_train.shape[0]\n",
    "n_test_example_num = Xnum_test.shape[0]"
   ]
  },
  {
   "cell_type": "code",
   "execution_count": 59,
   "metadata": {},
   "outputs": [
    {
     "name": "stdout",
     "output_type": "stream",
     "text": [
      "Number of features:  4\n",
      "Number of train example:  5737\n",
      "Number of test example:  2459\n"
     ]
    }
   ],
   "source": [
    "print('Number of features: ', n_features_num)\n",
    "print('Number of train example: ', n_train_example_num)\n",
    "print('Number of test example: ', n_test_example_num)"
   ]
  },
  {
   "cell_type": "code",
   "execution_count": 60,
   "metadata": {},
   "outputs": [],
   "source": [
    "#set input layers for NN\n",
    "input_ord = Input(shape=(n_features_ord,1))\n",
    "input_cat = Input(shape=(n_features_cat,1))\n",
    "input_num = Input(shape=(n_features_num,1))"
   ]
  },
  {
   "cell_type": "code",
   "execution_count": 61,
   "metadata": {},
   "outputs": [
    {
     "data": {
      "text/plain": [
       "(TensorShape([None, 4, 1]),\n",
       " TensorShape([None, 8, 1]),\n",
       " TensorShape([None, 4, 1]))"
      ]
     },
     "execution_count": 61,
     "metadata": {},
     "output_type": "execute_result"
    }
   ],
   "source": [
    "input_ord.shape, input_cat.shape, input_num.shape"
   ]
  },
  {
   "cell_type": "code",
   "execution_count": 62,
   "metadata": {},
   "outputs": [],
   "source": [
    "#the first branch\n",
    "nn1 = Dense(512, activation='relu', kernel_initializer = 'he_uniform')(input_ord)\n",
    "nn1 = Dense(256, activation='tanh')(nn1)\n",
    "nn1 = Dense(128, activation='tanh')(nn1)\n",
    "nn1 = Dense(64, activation='tanh')(nn1)\n",
    "flat1 = Flatten()(nn1)\n",
    "x_ord = Model(inputs=input_ord, outputs=flat1)\n",
    "\n",
    "#the second branch\n",
    "nn2 = Dense(128, activation='relu', kernel_initializer = 'he_uniform')(input_cat)\n",
    "nn2 = Dense(64, activation='tanh')(nn2)\n",
    "nn2 = Dense(32, activation='tanh')(nn2)\n",
    "nn2 = Dense(16, activation='tanh')(nn2)\n",
    "flat2 = Flatten()(nn2)\n",
    "x_cat = Model(inputs=input_cat, outputs=flat2)\n",
    "\n",
    "#the third branch\n",
    "conv3 = Conv1D(64, kernel_size=4, activation='tanh', padding = \"same\")(input_num)\n",
    "#batch2 = BatchNormalization()(conv2)\n",
    "#conv3 = Conv1D(16, kernel_size=3, activation='tanh', padding = \"same\")(conv3)\n",
    "batch3 = BatchNormalization()(conv3)\n",
    "#pool3 = MaxPool1D()(batch3)\n",
    "flat3 = Flatten()(batch3)\n",
    "#dense3 = Dense(32, activation = 'tanh')(flat3)\n",
    "x_num = Model(inputs=input_num, outputs=flat3)\n",
    "\n",
    "# combine the output of the three branches\n",
    "merge = concatenate([flat1, flat2, flat3])"
   ]
  },
  {
   "cell_type": "code",
   "execution_count": 63,
   "metadata": {},
   "outputs": [
    {
     "data": {
      "text/plain": [
       "(TensorShape([None, 256]), TensorShape([None, 128]), TensorShape([None, 256]))"
      ]
     },
     "execution_count": 63,
     "metadata": {},
     "output_type": "execute_result"
    }
   ],
   "source": [
    "flat1.shape, flat2.shape, flat3.shape"
   ]
  },
  {
   "cell_type": "code",
   "execution_count": 64,
   "metadata": {},
   "outputs": [],
   "source": [
    "# apply a FC layer and then a prediction on the\n",
    "# combined outputs\n",
    "#z = Dense(76, activation = \"tanh\")(merge)\n",
    "z = Dense(y_train.shape[1], activation = \"softmax\")(merge)\n",
    "\n",
    "# our model will accept the inputs of the three branches and\n",
    "# then output a single value\n",
    "model1 = Model(inputs=[x_ord.input, x_cat.input, x_num.input], outputs=z)"
   ]
  },
  {
   "cell_type": "code",
   "execution_count": 65,
   "metadata": {},
   "outputs": [
    {
     "name": "stdout",
     "output_type": "stream",
     "text": [
      "Model: \"functional_7\"\n",
      "__________________________________________________________________________________________________\n",
      "Layer (type)                    Output Shape         Param #     Connected to                     \n",
      "==================================================================================================\n",
      "input_1 (InputLayer)            [(None, 4, 1)]       0                                            \n",
      "__________________________________________________________________________________________________\n",
      "input_2 (InputLayer)            [(None, 8, 1)]       0                                            \n",
      "__________________________________________________________________________________________________\n",
      "dense (Dense)                   (None, 4, 512)       1024        input_1[0][0]                    \n",
      "__________________________________________________________________________________________________\n",
      "dense_4 (Dense)                 (None, 8, 128)       256         input_2[0][0]                    \n",
      "__________________________________________________________________________________________________\n",
      "dense_1 (Dense)                 (None, 4, 256)       131328      dense[0][0]                      \n",
      "__________________________________________________________________________________________________\n",
      "dense_5 (Dense)                 (None, 8, 64)        8256        dense_4[0][0]                    \n",
      "__________________________________________________________________________________________________\n",
      "input_3 (InputLayer)            [(None, 4, 1)]       0                                            \n",
      "__________________________________________________________________________________________________\n",
      "dense_2 (Dense)                 (None, 4, 128)       32896       dense_1[0][0]                    \n",
      "__________________________________________________________________________________________________\n",
      "dense_6 (Dense)                 (None, 8, 32)        2080        dense_5[0][0]                    \n",
      "__________________________________________________________________________________________________\n",
      "conv1d (Conv1D)                 (None, 4, 64)        320         input_3[0][0]                    \n",
      "__________________________________________________________________________________________________\n",
      "dense_3 (Dense)                 (None, 4, 64)        8256        dense_2[0][0]                    \n",
      "__________________________________________________________________________________________________\n",
      "dense_7 (Dense)                 (None, 8, 16)        528         dense_6[0][0]                    \n",
      "__________________________________________________________________________________________________\n",
      "batch_normalization (BatchNorma (None, 4, 64)        256         conv1d[0][0]                     \n",
      "__________________________________________________________________________________________________\n",
      "flatten (Flatten)               (None, 256)          0           dense_3[0][0]                    \n",
      "__________________________________________________________________________________________________\n",
      "flatten_1 (Flatten)             (None, 128)          0           dense_7[0][0]                    \n",
      "__________________________________________________________________________________________________\n",
      "flatten_2 (Flatten)             (None, 256)          0           batch_normalization[0][0]        \n",
      "__________________________________________________________________________________________________\n",
      "concatenate (Concatenate)       (None, 640)          0           flatten[0][0]                    \n",
      "                                                                 flatten_1[0][0]                  \n",
      "                                                                 flatten_2[0][0]                  \n",
      "__________________________________________________________________________________________________\n",
      "dense_8 (Dense)                 (None, 38)           24358       concatenate[0][0]                \n",
      "==================================================================================================\n",
      "Total params: 209,558\n",
      "Trainable params: 209,430\n",
      "Non-trainable params: 128\n",
      "__________________________________________________________________________________________________\n",
      "None\n"
     ]
    }
   ],
   "source": [
    "print(model1.summary())"
   ]
  },
  {
   "cell_type": "code",
   "execution_count": 66,
   "metadata": {},
   "outputs": [
    {
     "data": {
      "image/png": "[encoded data removed]",
      "text/plain": [
       "<IPython.core.display.Image object>"
      ]
     },
     "execution_count": 66,
     "metadata": {},
     "output_type": "execute_result"
    }
   ],
   "source": [
    "plot_model(model1, to_file='model1.png')"
   ]
  },
  {
   "cell_type": "code",
   "execution_count": 67,
   "metadata": {},
   "outputs": [],
   "source": [
    "model1.compile(optimizer='adam', metrics = ['accuracy'], loss=['categorical_crossentropy'])"
   ]
  },
  {
   "cell_type": "code",
   "execution_count": null,
   "metadata": {},
   "outputs": [],
   "source": [
    "history1 = model1.fit([Xord_train, Xcat_train, Xnum_train], y_train_red, validation_split = 0.2, epochs = 250, batch_size = 50)"
   ]
  },
  {
   "cell_type": "code",
   "execution_count": null,
   "metadata": {},
   "outputs": [],
   "source": [
    "y_pred1= np.argmax(model1.predict([Xord_test, Xcat_test, Xnum_test]), axis = 1)\n",
    "y_pred1_train = np.argmax(model1.predict([Xord_train, Xcat_train, Xnum_train]), axis = 1)"
   ]
  },
  {
   "cell_type": "code",
   "execution_count": null,
   "metadata": {},
   "outputs": [],
   "source": [
    "y_test_red"
   ]
  },
  {
   "cell_type": "code",
   "execution_count": null,
   "metadata": {},
   "outputs": [],
   "source": [
    "y_test_red = [np.argmax(y, axis = None) for y in y_test_red]\n",
    "y_test_red = encoder.inverse_transform(np.array(y_test_red).ravel())\n",
    "\n",
    "y_pred1 = encoder_red.inverse_transform(y_pred1)"
   ]
  },
  {
   "cell_type": "code",
   "execution_count": null,
   "metadata": {},
   "outputs": [],
   "source": [
    "y_test"
   ]
  },
  {
   "cell_type": "code",
   "execution_count": null,
   "metadata": {},
   "outputs": [],
   "source": [
    "print('r on test %s' % pearsonr(y_test_red, y_pred1)[0])\n",
    "print('KS on test %s' % ks_2samp(y_test_red, y_pred1)[0])\n",
    "print('\\n')\n",
    "print('RMSE test %s' % sqrt(mse(y_test_red, y_pred1)))\n",
    "print('MAE test %s' % mae(y_test_red, y_pred1))"
   ]
  },
  {
   "cell_type": "code",
   "execution_count": null,
   "metadata": {},
   "outputs": [],
   "source": [
    "df1 = pd.DataFrame()\n",
    "\n",
    "df1['RatingPredict'] = pd.Series(y_pred1)\n",
    "\n",
    "df1['RatingActual'] = pd.Series(y_test_red)\n",
    "\n",
    "\n",
    "plt.figure(figsize = (18, 8))\n",
    "plt.plot(df1['RatingPredict'].index, df1['RatingPredict'].values, label = 'Predict', linewidth = 0.8, color = '#6473E9')\n",
    "plt.plot(df1['RatingActual'].index, df1['RatingActual'].values, label = 'Actual', linewidth = 0.8, color = '#B02E21')\n",
    "plt.legend()\n",
    "plt.ylabel('Rating')\n",
    "plt.xlabel('Test obs.')\n",
    "plt.savefig('ActualPredict.png')\n",
    "\n",
    "df1.to_csv('PredictActual1.csv', index = False)"
   ]
  },
  {
   "cell_type": "markdown",
   "metadata": {},
   "source": [
    "# Model2"
   ]
  },
  {
   "cell_type": "code",
   "execution_count": 68,
   "metadata": {},
   "outputs": [
    {
     "data": {
      "text/plain": [
       "((5737, 16), (5737, 38))"
      ]
     },
     "execution_count": 68,
     "metadata": {},
     "output_type": "execute_result"
    }
   ],
   "source": [
    "X_train_red.shape, y_train_red.shape"
   ]
  },
  {
   "cell_type": "code",
   "execution_count": 69,
   "metadata": {},
   "outputs": [
    {
     "data": {
      "text/plain": [
       "16"
      ]
     },
     "execution_count": 69,
     "metadata": {},
     "output_type": "execute_result"
    }
   ],
   "source": [
    "n_features_red"
   ]
  },
  {
   "cell_type": "code",
   "execution_count": 70,
   "metadata": {},
   "outputs": [],
   "source": [
    "X_train_red = X_train_red.reshape((X_train_red.shape[0], X_train_red.shape[1], 1))"
   ]
  },
  {
   "cell_type": "code",
   "execution_count": 72,
   "metadata": {},
   "outputs": [],
   "source": [
    "CNN4 = Sequential([\n",
    "    \n",
    "    Conv1D(16, kernel_size = 3, activation = 'relu', input_shape = (n_features_red,1), padding = 'same'), \n",
    "    BatchNormalization(),\n",
    "    \n",
    "    Conv1D(32, kernel_size = 5, activation = 'relu', padding = 'same'),\n",
    "    MaxPool1D(pool_size = 2),\n",
    "    \n",
    "    \n",
    "    Conv1D(128, kernel_size = 11, activation = 'relu', padding = 'same'),\n",
    "    BatchNormalization(),\n",
    "    \n",
    "    MaxPool1D(pool_size = 2),\n",
    "    \n",
    "    \n",
    "    Flatten(),\n",
    "    \n",
    "    Dense(128, activation = 'relu'),\n",
    "    \n",
    "    Dense(256, activation = 'relu'),\n",
    "    \n",
    "    Dense(128, activation = 'relu'),\n",
    "    \n",
    "    Dense(64, activation = 'relu'),\n",
    "        \n",
    "    Dense(40, activation = 'relu'),\n",
    "    \n",
    "    #Dense(8, activation = 'relu'),\n",
    "    Flatten(),\n",
    "        \n",
    "    Dense(y_train_red.shape[1], activation = 'softmax')\n",
    "    \n",
    "])"
   ]
  },
  {
   "cell_type": "code",
   "execution_count": 73,
   "metadata": {},
   "outputs": [
    {
     "name": "stdout",
     "output_type": "stream",
     "text": [
      "Model: \"sequential\"\n",
      "_________________________________________________________________\n",
      "Layer (type)                 Output Shape              Param #   \n",
      "=================================================================\n",
      "conv1d_1 (Conv1D)            (None, 16, 16)            64        \n",
      "_________________________________________________________________\n",
      "batch_normalization_1 (Batch (None, 16, 16)            64        \n",
      "_________________________________________________________________\n",
      "conv1d_2 (Conv1D)            (None, 16, 32)            2592      \n",
      "_________________________________________________________________\n",
      "max_pooling1d (MaxPooling1D) (None, 8, 32)             0         \n",
      "_________________________________________________________________\n",
      "conv1d_3 (Conv1D)            (None, 8, 128)            45184     \n",
      "_________________________________________________________________\n",
      "batch_normalization_2 (Batch (None, 8, 128)            512       \n",
      "_________________________________________________________________\n",
      "max_pooling1d_1 (MaxPooling1 (None, 4, 128)            0         \n",
      "_________________________________________________________________\n",
      "flatten_3 (Flatten)          (None, 512)               0         \n",
      "_________________________________________________________________\n",
      "dense_9 (Dense)              (None, 128)               65664     \n",
      "_________________________________________________________________\n",
      "dense_10 (Dense)             (None, 256)               33024     \n",
      "_________________________________________________________________\n",
      "dense_11 (Dense)             (None, 128)               32896     \n",
      "_________________________________________________________________\n",
      "dense_12 (Dense)             (None, 64)                8256      \n",
      "_________________________________________________________________\n",
      "dense_13 (Dense)             (None, 40)                2600      \n",
      "_________________________________________________________________\n",
      "flatten_4 (Flatten)          (None, 40)                0         \n",
      "_________________________________________________________________\n",
      "dense_14 (Dense)             (None, 38)                1558      \n",
      "=================================================================\n",
      "Total params: 192,414\n",
      "Trainable params: 192,126\n",
      "Non-trainable params: 288\n",
      "_________________________________________________________________\n"
     ]
    }
   ],
   "source": [
    "CNN4.summary()"
   ]
  },
  {
   "cell_type": "code",
   "execution_count": 74,
   "metadata": {},
   "outputs": [
    {
     "data": {
      "image/png": "[encoded data removed]",
      "text/plain": [
       "<IPython.core.display.Image object>"
      ]
     },
     "execution_count": 74,
     "metadata": {},
     "output_type": "execute_result"
    }
   ],
   "source": [
    "plot_model(CNN4, to_file='CNN4.png')"
   ]
  },
  {
   "cell_type": "code",
   "execution_count": 75,
   "metadata": {},
   "outputs": [],
   "source": [
    "CNN4.compile(optimizer='adam', loss=['categorical_crossentropy'], metrics = ['accuracy'])"
   ]
  },
  {
   "cell_type": "code",
   "execution_count": null,
   "metadata": {},
   "outputs": [],
   "source": [
    "history4 = CNN4.fit(X_train_red, y_train_red, validation_split = 0.2, epochs = 500, batch_size = 100)"
   ]
  },
  {
   "cell_type": "code",
   "execution_count": 76,
   "metadata": {},
   "outputs": [],
   "source": [
    "X_test_red = X_test_red.reshape((X_test_red.shape[0], X_test_red.shape[1], 1))"
   ]
  },
  {
   "cell_type": "code",
   "execution_count": null,
   "metadata": {},
   "outputs": [],
   "source": [
    "y_pred2= np.argmax(CNN4.predict(X_test_red), axis = 1)"
   ]
  },
  {
   "cell_type": "code",
   "execution_count": null,
   "metadata": {},
   "outputs": [],
   "source": [
    "y_test_red, y_test"
   ]
  },
  {
   "cell_type": "code",
   "execution_count": null,
   "metadata": {},
   "outputs": [],
   "source": [
    "y_test_red = [np.argmax(y, axis = None) for y in y_test]\n",
    "y_test_red = encoder.inverse_transform(np.array(y_test_red).ravel())\n",
    "\n",
    "y_pred2 = encoder_red.inverse_transform(y_pred2)"
   ]
  },
  {
   "cell_type": "code",
   "execution_count": null,
   "metadata": {},
   "outputs": [],
   "source": [
    "y_pred2"
   ]
  },
  {
   "cell_type": "code",
   "execution_count": null,
   "metadata": {},
   "outputs": [],
   "source": [
    "print('r on test %s' % pearsonr(y_test_red, y_pred2)[0])\n",
    "print('KS on test %s' % ks_2samp(y_test_red, y_pred2)[0])\n",
    "print('\\n')\n",
    "print('RMSE test %s' % sqrt(mse(y_test_red, y_pred2)))\n",
    "print('MAE test %s' % mae(y_test_red, y_pred2))"
   ]
  },
  {
   "cell_type": "code",
   "execution_count": null,
   "metadata": {},
   "outputs": [],
   "source": [
    "df2 = pd.DataFrame()\n",
    "\n",
    "df2['RatingPredict'] = pd.Series(y_pred2)\n",
    "\n",
    "df2['RatingActual'] = pd.Series(y_test_red)\n",
    "\n",
    "plt.figure(figsize = (18, 8))\n",
    "plt.plot(df2['RatingPredict'].index, df2['RatingPredict'].values, label = 'Predict', linewidth = 0.8, color = '#6473E9')\n",
    "plt.plot(df2['RatingActual'].index, df2['RatingActual'].values, label = 'Actual', linewidth = 0.8, color = '#B02E21')\n",
    "plt.legend()\n",
    "plt.ylabel('Rating')\n",
    "plt.xlabel('Test obs.')\n",
    "plt.savefig('ActualPredict2.png')\n",
    "\n",
    "df2.to_csv('PredictActualCNN4.csv', index = False)"
   ]
  },
  {
   "cell_type": "markdown",
   "metadata": {},
   "source": [
    "# Models after oversampling using SMOTE"
   ]
  },
  {
   "cell_type": "markdown",
   "metadata": {},
   "source": [
    "### Model 3"
   ]
  },
  {
   "cell_type": "code",
   "execution_count": 77,
   "metadata": {},
   "outputs": [],
   "source": [
    "from collections import Counter\n",
    "from collections import defaultdict\n",
    "from imblearn.over_sampling import SMOTE"
   ]
  },
  {
   "cell_type": "code",
   "execution_count": 78,
   "metadata": {},
   "outputs": [],
   "source": [
    "X_train_red, X_test_red, y_train_red, y_test_red = train_test_split(X_red, y_red, test_size=0.3, random_state=42, stratify=y_dumm_red)"
   ]
  },
  {
   "cell_type": "code",
   "execution_count": 79,
   "metadata": {},
   "outputs": [
    {
     "data": {
      "text/plain": [
       "((5737, 16), (5737,))"
      ]
     },
     "execution_count": 79,
     "metadata": {},
     "output_type": "execute_result"
    }
   ],
   "source": [
    "X_train_red.shape, y_train_red.shape"
   ]
  },
  {
   "cell_type": "code",
   "execution_count": 80,
   "metadata": {},
   "outputs": [
    {
     "name": "stdout",
     "output_type": "stream",
     "text": [
      "Resampled dataset shape Counter({31: 626, 33: 626, 30: 626, 23: 626, 35: 626, 32: 626, 27: 626, 25: 626, 28: 626, 24: 626, 29: 626, 11: 626, 26: 626, 14: 626, 20: 626, 34: 626, 10: 626, 7: 626, 16: 626, 21: 626, 37: 626, 4: 626, 22: 626, 19: 626, 12: 626, 8: 626, 17: 626, 18: 626, 36: 626, 15: 626, 9: 626, 13: 626, 5: 626, 0: 626, 1: 626, 6: 626, 2: 626, 3: 626})\n"
     ]
    }
   ],
   "source": [
    "sm = SMOTE(random_state=50, k_neighbors = 1)\n",
    "X_res, y_res = sm.fit_resample(X_train_red, y_train_red)\n",
    "print('Resampled dataset shape %s' % Counter(y_res))"
   ]
  },
  {
   "cell_type": "code",
   "execution_count": 81,
   "metadata": {},
   "outputs": [],
   "source": [
    "# convert integers to dummy variables (i.e. one hot encoded)\n",
    "y_res = np_utils.to_categorical(y_res)"
   ]
  },
  {
   "cell_type": "code",
   "execution_count": 82,
   "metadata": {},
   "outputs": [
    {
     "data": {
      "text/plain": [
       "((23788, 16), (23788, 38))"
      ]
     },
     "execution_count": 82,
     "metadata": {},
     "output_type": "execute_result"
    }
   ],
   "source": [
    "X_res.shape, y_res.shape"
   ]
  },
  {
   "cell_type": "code",
   "execution_count": 83,
   "metadata": {},
   "outputs": [],
   "source": [
    "X_res = X_res.reshape((X_res.shape[0], X_res.shape[1], 1))"
   ]
  },
  {
   "cell_type": "code",
   "execution_count": 84,
   "metadata": {},
   "outputs": [],
   "source": [
    "CNN4_over = Sequential([\n",
    "    \n",
    "    Conv1D(16, kernel_size = 3, activation = 'relu', input_shape = (X_res.shape[1],1), padding = 'same'), \n",
    "    BatchNormalization(),\n",
    "    \n",
    "    Conv1D(32, kernel_size = 5, activation = 'relu', padding = 'same'),\n",
    "    MaxPool1D(pool_size = 2),\n",
    "    \n",
    "    \n",
    "    Conv1D(128, kernel_size = 11, activation = 'relu', padding = 'same'),\n",
    "    BatchNormalization(),\n",
    "    \n",
    "    MaxPool1D(pool_size = 2),\n",
    "    \n",
    "    \n",
    "    Flatten(),\n",
    "    \n",
    "    Dense(128, activation = 'relu'),\n",
    "    \n",
    "    Dense(256, activation = 'relu'),\n",
    "    \n",
    "    Dense(128, activation = 'relu'),\n",
    "    \n",
    "    Dense(64, activation = 'relu'),\n",
    "        \n",
    "    Dense(40, activation = 'relu'),\n",
    "    \n",
    "    #Dense(8, activation = 'relu'),\n",
    "    Flatten(),\n",
    "        \n",
    "    Dense(y_res.shape[1], activation = 'softmax')\n",
    "    \n",
    "])"
   ]
  },
  {
   "cell_type": "code",
   "execution_count": 85,
   "metadata": {},
   "outputs": [
    {
     "name": "stdout",
     "output_type": "stream",
     "text": [
      "Model: \"sequential_1\"\n",
      "_________________________________________________________________\n",
      "Layer (type)                 Output Shape              Param #   \n",
      "=================================================================\n",
      "conv1d_4 (Conv1D)            (None, 16, 16)            64        \n",
      "_________________________________________________________________\n",
      "batch_normalization_3 (Batch (None, 16, 16)            64        \n",
      "_________________________________________________________________\n",
      "conv1d_5 (Conv1D)            (None, 16, 32)            2592      \n",
      "_________________________________________________________________\n",
      "max_pooling1d_2 (MaxPooling1 (None, 8, 32)             0         \n",
      "_________________________________________________________________\n",
      "conv1d_6 (Conv1D)            (None, 8, 128)            45184     \n",
      "_________________________________________________________________\n",
      "batch_normalization_4 (Batch (None, 8, 128)            512       \n",
      "_________________________________________________________________\n",
      "max_pooling1d_3 (MaxPooling1 (None, 4, 128)            0         \n",
      "_________________________________________________________________\n",
      "flatten_5 (Flatten)          (None, 512)               0         \n",
      "_________________________________________________________________\n",
      "dense_15 (Dense)             (None, 128)               65664     \n",
      "_________________________________________________________________\n",
      "dense_16 (Dense)             (None, 256)               33024     \n",
      "_________________________________________________________________\n",
      "dense_17 (Dense)             (None, 128)               32896     \n",
      "_________________________________________________________________\n",
      "dense_18 (Dense)             (None, 64)                8256      \n",
      "_________________________________________________________________\n",
      "dense_19 (Dense)             (None, 40)                2600      \n",
      "_________________________________________________________________\n",
      "flatten_6 (Flatten)          (None, 40)                0         \n",
      "_________________________________________________________________\n",
      "dense_20 (Dense)             (None, 38)                1558      \n",
      "=================================================================\n",
      "Total params: 192,414\n",
      "Trainable params: 192,126\n",
      "Non-trainable params: 288\n",
      "_________________________________________________________________\n"
     ]
    }
   ],
   "source": [
    "CNN4_over.summary()"
   ]
  },
  {
   "cell_type": "code",
   "execution_count": 86,
   "metadata": {},
   "outputs": [
    {
     "data": {
      "image/png": "[encoded data removed]",
      "text/plain": [
       "<IPython.core.display.Image object>"
      ]
     },
     "execution_count": 86,
     "metadata": {},
     "output_type": "execute_result"
    }
   ],
   "source": [
    "plot_model(CNN4_over, to_file='CNN4_over.png')"
   ]
  },
  {
   "cell_type": "code",
   "execution_count": 87,
   "metadata": {},
   "outputs": [],
   "source": [
    "CNN4_over.compile(optimizer='adam', loss=['categorical_crossentropy'], metrics = ['accuracy'])"
   ]
  },
  {
   "cell_type": "code",
   "execution_count": null,
   "metadata": {},
   "outputs": [],
   "source": [
    "history4_over = CNN4_over.fit(X_res, y_res, validation_split = 0.3, epochs = 500, batch_size = 100)"
   ]
  },
  {
   "cell_type": "code",
   "execution_count": 88,
   "metadata": {},
   "outputs": [],
   "source": [
    "X_test_red = X_test_red.reshape((X_test_red.shape[0], X_test_red.shape[1], 1))"
   ]
  },
  {
   "cell_type": "code",
   "execution_count": null,
   "metadata": {},
   "outputs": [],
   "source": [
    "y_pred3= np.argmax(CNN4_over.predict(X_test_red), axis = 1)\n",
    "y_pred3_train = np.argmax(CNN4_over.predict(X_res), axis = 1)"
   ]
  },
  {
   "cell_type": "code",
   "execution_count": null,
   "metadata": {},
   "outputs": [],
   "source": [
    "y_test, y_test_red"
   ]
  },
  {
   "cell_type": "code",
   "execution_count": null,
   "metadata": {},
   "outputs": [],
   "source": [
    "y_test_red = [np.argmax(y, axis = None) for y in y_test]\n",
    "y_test_red = encoder.inverse_transform(np.array(y_test_red).ravel())\n",
    "\n",
    "y_pred3 = encoder_red.inverse_transform(y_pred3)"
   ]
  },
  {
   "cell_type": "code",
   "execution_count": null,
   "metadata": {},
   "outputs": [],
   "source": [
    "y_pred3"
   ]
  },
  {
   "cell_type": "code",
   "execution_count": null,
   "metadata": {},
   "outputs": [],
   "source": [
    "print('r on test %s' % pearsonr(y_test_red, y_pred3)[0])\n",
    "print('KS on test %s' % ks_2samp(y_test_red, y_pred3)[0])\n",
    "print('\\n')\n",
    "print('RMSE test %s' % sqrt(mse(y_test_red, y_pred3)))\n",
    "print('MAE test %s' % mae(y_test_red, y_pred3))"
   ]
  },
  {
   "cell_type": "code",
   "execution_count": null,
   "metadata": {},
   "outputs": [],
   "source": [
    "df3 = pd.DataFrame()\n",
    "\n",
    "df3['RatingPredict'] = pd.Series(y_pred3)\n",
    "\n",
    "df3['RatingActual'] = pd.Series(y_test_red)\n",
    "\n",
    "plt.figure(figsize = (18, 8))\n",
    "plt.plot(df3['RatingPredict'].index, df3['RatingPredict'].values, label = 'Predict', linewidth = 0.8, color = '#6473E9')\n",
    "plt.plot(df3['RatingActual'].index, df3['RatingActual'].values, label = 'Actual', linewidth = 0.8, color = '#B02E21')\n",
    "plt.legend()\n",
    "plt.ylabel('Rating')\n",
    "plt.xlabel('Test obs.')\n",
    "plt.savefig('ActualPredict3.png')\n",
    "\n",
    "df3.to_csv('PredictActual3.csv', index = False)"
   ]
  },
  {
   "cell_type": "code",
   "execution_count": null,
   "metadata": {},
   "outputs": [],
   "source": []
  },
  {
   "cell_type": "markdown",
   "metadata": {},
   "source": [
    "### Model 4"
   ]
  },
  {
   "cell_type": "code",
   "execution_count": 89,
   "metadata": {},
   "outputs": [],
   "source": [
    "class_name = 'Rating'\n",
    "attributes = [col for col in apps_red.columns if col != class_name]\n",
    "X_red = apps_red[attributes].values\n",
    "y_red = apps_red[class_name]"
   ]
  },
  {
   "cell_type": "code",
   "execution_count": 90,
   "metadata": {},
   "outputs": [],
   "source": [
    "# encode class values as integers\n",
    "encoder = LabelEncoder()\n",
    "encoder.fit(y_red)\n",
    "y_red = encoder.transform(y_red)"
   ]
  },
  {
   "cell_type": "code",
   "execution_count": 91,
   "metadata": {},
   "outputs": [
    {
     "data": {
      "text/plain": [
       "Index(['Rating', 'Reviews', 'Size', 'Installs', 'Price', 'Content Rating',\n",
       "       'Current Ver', 'Android Ver', 'Main_Genres', 'Secondary_Genres',\n",
       "       'Is_Family', 'Is_Game', 'Compatibility', 'RTR', 'Both_Stores',\n",
       "       'SentimentPolarityMean', 'YearUpdated', 'MonthUpdated', 'DayUpdated'],\n",
       "      dtype='object')"
      ]
     },
     "execution_count": 91,
     "metadata": {},
     "output_type": "execute_result"
    }
   ],
   "source": [
    "apps.columns"
   ]
  },
  {
   "cell_type": "code",
   "execution_count": 92,
   "metadata": {},
   "outputs": [],
   "source": [
    "X_train_red, X_test_red, y_train_red, y_test_red = train_test_split(X_red, y_red, test_size=0.3, random_state=42, stratify=y_dumm_red)"
   ]
  },
  {
   "cell_type": "code",
   "execution_count": 93,
   "metadata": {},
   "outputs": [
    {
     "data": {
      "text/plain": [
       "((5737, 16), (5737,))"
      ]
     },
     "execution_count": 93,
     "metadata": {},
     "output_type": "execute_result"
    }
   ],
   "source": [
    "X_train_red.shape, y_train_red.shape"
   ]
  },
  {
   "cell_type": "code",
   "execution_count": 94,
   "metadata": {},
   "outputs": [],
   "source": [
    "cat_df = apps[['Rating', 'Secondary_Genres', 'Main_Genres', 'Current Ver', 'Android Ver',\n",
    "                   'Is_Family', 'Is_Game', 'Both_Stores', 'Content Rating']]\n",
    "ord_df = apps[['Rating', 'Installs', 'Compatibility', 'YearUpdated', 'MonthUpdated']]\n",
    "num_df = apps[['Rating', 'RTR', 'Size', 'Reviews', 'SentimentPolarityMean']]"
   ]
  },
  {
   "cell_type": "code",
   "execution_count": 95,
   "metadata": {},
   "outputs": [],
   "source": [
    "class_name = 'Rating'\n",
    "attributes = [col for col in ord_df.columns if col != class_name]\n",
    "X_ord = ord_df[attributes].values\n",
    "y_ord = ord_df[class_name]\n",
    "\n",
    "# encode class values as integers\n",
    "encoder_ord = LabelEncoder()\n",
    "encoder_ord.fit(y_ord)\n",
    "y_ord = encoder_ord.transform(y_ord)\n",
    "\n",
    "Xord_train, Xord_test, yord_train, yord_test = train_test_split(X_ord, y_ord, test_size=0.3, random_state=42, stratify=y_ord)"
   ]
  },
  {
   "cell_type": "code",
   "execution_count": 96,
   "metadata": {},
   "outputs": [
    {
     "name": "stdout",
     "output_type": "stream",
     "text": [
      "Resampled dataset shape Counter({27: 626, 35: 626, 23: 626, 29: 626, 16: 626, 31: 626, 34: 626, 32: 626, 28: 626, 25: 626, 33: 626, 36: 626, 30: 626, 26: 626, 37: 626, 20: 626, 18: 626, 24: 626, 21: 626, 7: 626, 15: 626, 12: 626, 19: 626, 6: 626, 22: 626, 17: 626, 8: 626, 14: 626, 11: 626, 10: 626, 0: 626, 9: 626, 13: 626, 3: 626, 5: 626, 4: 626, 2: 626, 1: 626})\n"
     ]
    }
   ],
   "source": [
    "sm_ord = SMOTE(random_state=50, k_neighbors = 1)\n",
    "X_ord, y_ord = sm.fit_resample(Xord_train, yord_train)\n",
    "print('Resampled dataset shape %s' % Counter(y_ord))"
   ]
  },
  {
   "cell_type": "code",
   "execution_count": 97,
   "metadata": {},
   "outputs": [],
   "source": [
    "# convert integers to dummy variables (i.e. one hot encoded)\n",
    "y_ord = np_utils.to_categorical(y_ord)"
   ]
  },
  {
   "cell_type": "code",
   "execution_count": 98,
   "metadata": {},
   "outputs": [
    {
     "name": "stdout",
     "output_type": "stream",
     "text": [
      "Number of features:  4\n",
      "Number of train example:  23788\n",
      "Number of test example:  2459\n"
     ]
    }
   ],
   "source": [
    "n_features_ord = X_ord.shape[1]\n",
    "n_train_example_ord = X_ord.shape[0]\n",
    "n_test_example_ord = Xord_test.shape[0]\n",
    "\n",
    "print('Number of features: ', n_features_ord)\n",
    "print('Number of train example: ', n_train_example_ord)\n",
    "print('Number of test example: ', n_test_example_ord)"
   ]
  },
  {
   "cell_type": "code",
   "execution_count": 99,
   "metadata": {},
   "outputs": [],
   "source": [
    "class_name = 'Rating'\n",
    "attributes = [col for col in cat_df.columns if col != class_name]\n",
    "X_cat = cat_df[attributes].values\n",
    "y_cat = cat_df[class_name]\n",
    "\n",
    "# encode class values as integers\n",
    "encoder_cat = LabelEncoder()\n",
    "encoder_cat.fit(y_cat)\n",
    "y_cat = encoder_cat.transform(y_cat)\n",
    "\n",
    "Xcat_train, Xcat_test, ycat_train, ycat_test = train_test_split(X_cat, y_cat, test_size=0.3, random_state=42, stratify=y_cat)"
   ]
  },
  {
   "cell_type": "code",
   "execution_count": 100,
   "metadata": {},
   "outputs": [
    {
     "name": "stdout",
     "output_type": "stream",
     "text": [
      "Resampled dataset shape Counter({27: 626, 35: 626, 23: 626, 29: 626, 16: 626, 31: 626, 34: 626, 32: 626, 28: 626, 25: 626, 33: 626, 36: 626, 30: 626, 26: 626, 37: 626, 20: 626, 18: 626, 24: 626, 21: 626, 7: 626, 15: 626, 12: 626, 19: 626, 6: 626, 22: 626, 17: 626, 8: 626, 14: 626, 11: 626, 10: 626, 0: 626, 9: 626, 13: 626, 3: 626, 5: 626, 4: 626, 2: 626, 1: 626})\n"
     ]
    }
   ],
   "source": [
    "sm_cat = SMOTE(random_state=50, k_neighbors = 1)\n",
    "X_cat, y_cat = sm.fit_resample(Xcat_train, ycat_train)\n",
    "print('Resampled dataset shape %s' % Counter(y_cat))"
   ]
  },
  {
   "cell_type": "code",
   "execution_count": 101,
   "metadata": {},
   "outputs": [],
   "source": [
    "# convert integers to dummy variables (i.e. one hot encoded)\n",
    "y_cat = np_utils.to_categorical(y_cat)"
   ]
  },
  {
   "cell_type": "code",
   "execution_count": 102,
   "metadata": {},
   "outputs": [
    {
     "name": "stdout",
     "output_type": "stream",
     "text": [
      "Number of features:  8\n",
      "Number of train example:  23788\n",
      "Number of test example:  2459\n"
     ]
    }
   ],
   "source": [
    "n_features_cat = X_cat.shape[1]\n",
    "n_train_example_cat = X_cat.shape[0]\n",
    "n_test_example_cat = Xcat_test.shape[0]\n",
    "\n",
    "print('Number of features: ', n_features_cat)\n",
    "print('Number of train example: ', n_train_example_cat)\n",
    "print('Number of test example: ', n_test_example_cat)"
   ]
  },
  {
   "cell_type": "code",
   "execution_count": 103,
   "metadata": {},
   "outputs": [],
   "source": [
    "class_name = 'Rating'\n",
    "attributes = [col for col in num_df.columns if col != class_name]\n",
    "X_num = num_df[attributes].values\n",
    "y_num = num_df[class_name]\n",
    "\n",
    "# encode class values as integers\n",
    "encoder_num = LabelEncoder()\n",
    "encoder_num.fit(y_num)\n",
    "y_num = encoder_num.transform(y_num)\n",
    "\n",
    "Xnum_train, Xnum_test, ynum_train, ynum_test = train_test_split(X_num, y_num, test_size=0.3, random_state=42, stratify=y_num)"
   ]
  },
  {
   "cell_type": "code",
   "execution_count": 104,
   "metadata": {},
   "outputs": [
    {
     "name": "stdout",
     "output_type": "stream",
     "text": [
      "Resampled dataset shape Counter({27: 626, 35: 626, 23: 626, 29: 626, 16: 626, 31: 626, 34: 626, 32: 626, 28: 626, 25: 626, 33: 626, 36: 626, 30: 626, 26: 626, 37: 626, 20: 626, 18: 626, 24: 626, 21: 626, 7: 626, 15: 626, 12: 626, 19: 626, 6: 626, 22: 626, 17: 626, 8: 626, 14: 626, 11: 626, 10: 626, 0: 626, 9: 626, 13: 626, 3: 626, 5: 626, 4: 626, 2: 626, 1: 626})\n"
     ]
    }
   ],
   "source": [
    "sm_num = SMOTE(random_state=50, k_neighbors = 1)\n",
    "X_num, y_num = sm.fit_resample(Xnum_train, ynum_train)\n",
    "print('Resampled dataset shape %s' % Counter(y_num))"
   ]
  },
  {
   "cell_type": "code",
   "execution_count": 105,
   "metadata": {},
   "outputs": [],
   "source": [
    "# convert integers to dummy variables (i.e. one hot encoded)\n",
    "y_num = np_utils.to_categorical(y_num)"
   ]
  },
  {
   "cell_type": "code",
   "execution_count": 106,
   "metadata": {},
   "outputs": [
    {
     "name": "stdout",
     "output_type": "stream",
     "text": [
      "Number of features:  4\n",
      "Number of train example:  23788\n",
      "Number of test example:  2459\n"
     ]
    }
   ],
   "source": [
    "n_features_num = X_num.shape[1]\n",
    "n_train_example_num = X_num.shape[0]\n",
    "n_test_example_num = Xnum_test.shape[0]\n",
    "\n",
    "print('Number of features: ', n_features_num)\n",
    "print('Number of train example: ', n_train_example_num)\n",
    "print('Number of test example: ', n_test_example_num)"
   ]
  },
  {
   "cell_type": "code",
   "execution_count": 107,
   "metadata": {},
   "outputs": [
    {
     "data": {
      "text/plain": [
       "(TensorShape([None, 4, 1]),\n",
       " TensorShape([None, 8, 1]),\n",
       " TensorShape([None, 4, 1]))"
      ]
     },
     "execution_count": 107,
     "metadata": {},
     "output_type": "execute_result"
    }
   ],
   "source": [
    "#set the iput layers for NN\n",
    "input_ord = Input(shape=(n_features_ord,1))\n",
    "input_cat = Input(shape=(n_features_cat,1))\n",
    "input_num = Input(shape=(n_features_num,1))\n",
    "\n",
    "input_ord.shape, input_cat.shape, input_num.shape"
   ]
  },
  {
   "cell_type": "code",
   "execution_count": 108,
   "metadata": {},
   "outputs": [],
   "source": [
    "#the first branch\n",
    "conv1 = Conv1D(128, kernel_size = 4, activation = 'relu', padding = \"same\")(input_ord)\n",
    "batch1 = BatchNormalization()(conv1)\n",
    "conv1 = Conv1D(256, kernel_size = 2, activation = 'relu', padding = \"same\")(conv1)\n",
    "batch1 = BatchNormalization()(conv1)\n",
    "pool1 = MaxPool1D()(batch1)\n",
    "flat1 = Flatten()(pool1)\n",
    "dense1 = Dense(128, activation = 'relu')(flat1)\n",
    "x_ord = Model(inputs=input_ord, outputs=dense1)\n",
    "\n",
    "#the second branch\n",
    "conv2 = Conv1D(96, kernel_size=4, activation='relu', padding = \"same\")(input_cat)\n",
    "#batch2 = BatchNormalization()(conv2)\n",
    "conv2 = Conv1D(192, kernel_size=3, activation='relu', padding = \"same\")(conv2)\n",
    "batch2 = BatchNormalization()(conv2)\n",
    "pool2 = MaxPool1D()(batch2)\n",
    "flat2 = Flatten()(pool2)\n",
    "dense2 = Dense(128, activation = 'relu')(flat2)\n",
    "x_cat = Model(inputs=input_cat, outputs=dense2)\n",
    "\n",
    "#the third branch\n",
    "conv3 = Conv1D(96, kernel_size=4, activation='relu', padding = \"same\")(input_num)\n",
    "#batch2 = BatchNormalization()(conv2)\n",
    "conv3 = Conv1D(192, kernel_size=3, activation='relu', padding = \"same\")(conv3)\n",
    "batch3 = BatchNormalization()(conv3)\n",
    "pool3 = MaxPool1D()(batch3)\n",
    "flat3 = Flatten()(pool3)\n",
    "dense3 = Dense(128, activation = 'relu')(flat3)\n",
    "x_num = Model(inputs=input_num, outputs=dense3)"
   ]
  },
  {
   "cell_type": "code",
   "execution_count": 109,
   "metadata": {},
   "outputs": [
    {
     "data": {
      "text/plain": [
       "(TensorShape([None, 128]), TensorShape([None, 128]), TensorShape([None, 128]))"
      ]
     },
     "execution_count": 109,
     "metadata": {},
     "output_type": "execute_result"
    }
   ],
   "source": [
    "# combine the output of the three branches\n",
    "merge = concatenate([dense1, dense2, dense3])\n",
    "\n",
    "dense1.shape, dense2.shape, dense3.shape"
   ]
  },
  {
   "cell_type": "code",
   "execution_count": 110,
   "metadata": {},
   "outputs": [],
   "source": [
    "# apply a FC layer and then a prediction on the\n",
    "# combined outputs\n",
    "z = Dense(64, activation=\"relu\")(merge)\n",
    "z = Dense(40, activation=\"relu\")(merge)\n",
    "z = Dense(y_ord.shape[1], activation=\"softmax\")(z)"
   ]
  },
  {
   "cell_type": "code",
   "execution_count": 111,
   "metadata": {},
   "outputs": [
    {
     "data": {
      "text/plain": [
       "38"
      ]
     },
     "execution_count": 111,
     "metadata": {},
     "output_type": "execute_result"
    }
   ],
   "source": [
    "y_ord.shape[1]"
   ]
  },
  {
   "cell_type": "code",
   "execution_count": 112,
   "metadata": {},
   "outputs": [
    {
     "name": "stdout",
     "output_type": "stream",
     "text": [
      "Model: \"functional_15\"\n",
      "__________________________________________________________________________________________________\n",
      "Layer (type)                    Output Shape         Param #     Connected to                     \n",
      "==================================================================================================\n",
      "input_4 (InputLayer)            [(None, 4, 1)]       0                                            \n",
      "__________________________________________________________________________________________________\n",
      "input_5 (InputLayer)            [(None, 8, 1)]       0                                            \n",
      "__________________________________________________________________________________________________\n",
      "input_6 (InputLayer)            [(None, 4, 1)]       0                                            \n",
      "__________________________________________________________________________________________________\n",
      "conv1d_7 (Conv1D)               (None, 4, 128)       640         input_4[0][0]                    \n",
      "__________________________________________________________________________________________________\n",
      "conv1d_9 (Conv1D)               (None, 8, 96)        480         input_5[0][0]                    \n",
      "__________________________________________________________________________________________________\n",
      "conv1d_11 (Conv1D)              (None, 4, 96)        480         input_6[0][0]                    \n",
      "__________________________________________________________________________________________________\n",
      "conv1d_8 (Conv1D)               (None, 4, 256)       65792       conv1d_7[0][0]                   \n",
      "__________________________________________________________________________________________________\n",
      "conv1d_10 (Conv1D)              (None, 8, 192)       55488       conv1d_9[0][0]                   \n",
      "__________________________________________________________________________________________________\n",
      "conv1d_12 (Conv1D)              (None, 4, 192)       55488       conv1d_11[0][0]                  \n",
      "__________________________________________________________________________________________________\n",
      "batch_normalization_6 (BatchNor (None, 4, 256)       1024        conv1d_8[0][0]                   \n",
      "__________________________________________________________________________________________________\n",
      "batch_normalization_7 (BatchNor (None, 8, 192)       768         conv1d_10[0][0]                  \n",
      "__________________________________________________________________________________________________\n",
      "batch_normalization_8 (BatchNor (None, 4, 192)       768         conv1d_12[0][0]                  \n",
      "__________________________________________________________________________________________________\n",
      "max_pooling1d_4 (MaxPooling1D)  (None, 2, 256)       0           batch_normalization_6[0][0]      \n",
      "__________________________________________________________________________________________________\n",
      "max_pooling1d_5 (MaxPooling1D)  (None, 4, 192)       0           batch_normalization_7[0][0]      \n",
      "__________________________________________________________________________________________________\n",
      "max_pooling1d_6 (MaxPooling1D)  (None, 2, 192)       0           batch_normalization_8[0][0]      \n",
      "__________________________________________________________________________________________________\n",
      "flatten_7 (Flatten)             (None, 512)          0           max_pooling1d_4[0][0]            \n",
      "__________________________________________________________________________________________________\n",
      "flatten_8 (Flatten)             (None, 768)          0           max_pooling1d_5[0][0]            \n",
      "__________________________________________________________________________________________________\n",
      "flatten_9 (Flatten)             (None, 384)          0           max_pooling1d_6[0][0]            \n",
      "__________________________________________________________________________________________________\n",
      "dense_21 (Dense)                (None, 128)          65664       flatten_7[0][0]                  \n",
      "__________________________________________________________________________________________________\n",
      "dense_22 (Dense)                (None, 128)          98432       flatten_8[0][0]                  \n",
      "__________________________________________________________________________________________________\n",
      "dense_23 (Dense)                (None, 128)          49280       flatten_9[0][0]                  \n",
      "__________________________________________________________________________________________________\n",
      "concatenate_1 (Concatenate)     (None, 384)          0           dense_21[0][0]                   \n",
      "                                                                 dense_22[0][0]                   \n",
      "                                                                 dense_23[0][0]                   \n",
      "__________________________________________________________________________________________________\n",
      "dense_25 (Dense)                (None, 40)           15400       concatenate_1[0][0]              \n",
      "__________________________________________________________________________________________________\n",
      "dense_26 (Dense)                (None, 38)           1558        dense_25[0][0]                   \n",
      "==================================================================================================\n",
      "Total params: 411,262\n",
      "Trainable params: 409,982\n",
      "Non-trainable params: 1,280\n",
      "__________________________________________________________________________________________________\n",
      "None\n"
     ]
    }
   ],
   "source": [
    "# our model will accept the inputs of the three branches and\n",
    "# then output a single value\n",
    "model4 = Model(inputs=[x_ord.input, x_cat.input, x_num.input], outputs=z)\n",
    "\n",
    "print(model4.summary())"
   ]
  },
  {
   "cell_type": "code",
   "execution_count": 113,
   "metadata": {},
   "outputs": [
    {
     "data": {
      "image/png": "[encoded data removed]",
      "text/plain": [
       "<IPython.core.display.Image object>"
      ]
     },
     "execution_count": 113,
     "metadata": {},
     "output_type": "execute_result"
    }
   ],
   "source": [
    "plot_model(model4, to_file='model4.png')"
   ]
  },
  {
   "cell_type": "code",
   "execution_count": 114,
   "metadata": {},
   "outputs": [
    {
     "data": {
      "text/plain": [
       "((23788, 38), (2459, 38))"
      ]
     },
     "execution_count": 114,
     "metadata": {},
     "output_type": "execute_result"
    }
   ],
   "source": [
    "y_ord.shape, y_test.shape"
   ]
  },
  {
   "cell_type": "code",
   "execution_count": null,
   "metadata": {},
   "outputs": [],
   "source": [
    "model4.compile(optimizer='adam', loss=['categorical_crossentropy'], metrics = ['accuracy'])\n",
    "\n",
    "history4_2 = model4.fit([Xord_train, Xcat_train, Xnum_train], y_ord, validation_split = 0.4, epochs = 500, batch_size = 100)"
   ]
  },
  {
   "cell_type": "code",
   "execution_count": null,
   "metadata": {},
   "outputs": [],
   "source": [
    "y_pred4= np.argmax(model4.predict([Xord_test, Xcat_test, Xnum_test]), axis = 1)\n",
    "y_pred4_train = np.argmax(model4.predict([Xord_train, Xcat_train, Xnum_train]), axis = 1)"
   ]
  },
  {
   "cell_type": "code",
   "execution_count": null,
   "metadata": {},
   "outputs": [],
   "source": [
    "y_test"
   ]
  },
  {
   "cell_type": "code",
   "execution_count": null,
   "metadata": {},
   "outputs": [],
   "source": [
    "y_test_red = [np.argmax(y, axis = None) for y in y_test]\n",
    "y_test_red = encoder.inverse_transform(np.array(y_test_red).ravel())\n",
    "\n",
    "y_pred4 = encoder_red.inverse_transform(y_pred4)"
   ]
  },
  {
   "cell_type": "code",
   "execution_count": null,
   "metadata": {},
   "outputs": [],
   "source": [
    "print('r on test %s' % pearsonr(y_test_red, y_pred4)[0])\n",
    "print('KS on test %s' % ks_2samp(y_test_red, y_pred4)[0])\n",
    "print('\\n')\n",
    "print('RMSE test %s' % sqrt(mse(y_test_red, y_pred4)))\n",
    "print('MAE test %s' % mae(y_test_red, y_pred3))"
   ]
  },
  {
   "cell_type": "code",
   "execution_count": null,
   "metadata": {},
   "outputs": [],
   "source": [
    "df4 = pd.DataFrame()\n",
    "\n",
    "df4['RatingPredict'] = pd.Series(y_pred4)\n",
    "\n",
    "df4['RatingActual'] = pd.Series(y_test_red)\n",
    "\n",
    "plt.figure(figsize = (18, 8))\n",
    "plt.plot(df4['RatingPredict'].index, df4['RatingPredict'].values, label = 'Predict', linewidth = 0.8, color = '#6473E9')\n",
    "plt.plot(df4['RatingActual'].index, df4['RatingActual'].values, label = 'Actual', linewidth = 0.8, color = '#B02E21')\n",
    "plt.legend()\n",
    "plt.ylabel('Rating')\n",
    "plt.xlabel('Test obs.')\n",
    "plt.savefig('ActualPredict4.png')\n",
    "\n",
    "df4.to_csv('PredictActual4.csv', index = False)"
   ]
  },
  {
   "cell_type": "code",
   "execution_count": null,
   "metadata": {},
   "outputs": [],
   "source": []
  },
  {
   "cell_type": "code",
   "execution_count": null,
   "metadata": {},
   "outputs": [],
   "source": []
  }
 ],
 "metadata": {
  "kernelspec": {
   "display_name": "Python 3",
   "language": "python",
   "name": "python3"
  },
  "language_info": {
   "codemirror_mode": {
    "name": "ipython",
    "version": 3
   },
   "file_extension": ".py",
   "mimetype": "text/x-python",
   "name": "python",
   "nbconvert_exporter": "python",
   "pygments_lexer": "ipython3",
   "version": "3.7.7"
  }
 },
 "nbformat": 4,
 "nbformat_minor": 4
}
