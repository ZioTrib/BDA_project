{
 "cells": [
  {
   "cell_type": "markdown",
   "metadata": {},
   "source": [
    "# Ordinal Regression"
   ]
  },
  {
   "cell_type": "markdown",
   "metadata": {},
   "source": [
    "Bibliografy: Fabian Pedregosa-Izquierdo. Feature extraction and supervised learning on fMRI: from practice to theory. PhD thesis."
   ]
  },
  {
   "cell_type": "code",
   "execution_count": 37,
   "metadata": {},
   "outputs": [],
   "source": [
    "%matplotlib inline\n",
    "import numpy as np\n",
    "import matplotlib.pyplot as plt\n",
    "import pandas as pd\n",
    "import mord as mr\n",
    "from sklearn import linear_model, metrics, preprocessing\n",
    "from sklearn.model_selection import train_test_split, cross_val_score, GridSearchCV\n",
    "from sklearn.metrics import accuracy_score, f1_score, classification_report,mean_squared_error\n",
    "from math import sqrt\n",
    "from sklearn.preprocessing import LabelEncoder\n",
    "import time\n",
    "import datetime\n",
    "from scipy import stats"
   ]
  },
  {
   "cell_type": "code",
   "execution_count": 38,
   "metadata": {},
   "outputs": [
    {
     "data": {
      "text/html": [
       "<div>\n",
       "<style scoped>\n",
       "    .dataframe tbody tr th:only-of-type {\n",
       "        vertical-align: middle;\n",
       "    }\n",
       "\n",
       "    .dataframe tbody tr th {\n",
       "        vertical-align: top;\n",
       "    }\n",
       "\n",
       "    .dataframe thead th {\n",
       "        text-align: right;\n",
       "    }\n",
       "</style>\n",
       "<table border=\"1\" class=\"dataframe\">\n",
       "  <thead>\n",
       "    <tr style=\"text-align: right;\">\n",
       "      <th></th>\n",
       "      <th>App</th>\n",
       "      <th>Rating</th>\n",
       "      <th>Reviews</th>\n",
       "      <th>Size</th>\n",
       "      <th>Installs</th>\n",
       "      <th>Price</th>\n",
       "      <th>Content Rating</th>\n",
       "      <th>Last Updated</th>\n",
       "      <th>Current Ver</th>\n",
       "      <th>Android Ver</th>\n",
       "      <th>Main_Genres</th>\n",
       "      <th>Secondary_Genres</th>\n",
       "      <th>Is_Family</th>\n",
       "      <th>Is_Game</th>\n",
       "      <th>Compatibility</th>\n",
       "      <th>RTR</th>\n",
       "      <th>Both_Stores</th>\n",
       "    </tr>\n",
       "  </thead>\n",
       "  <tbody>\n",
       "    <tr>\n",
       "      <td>0</td>\n",
       "      <td>🔥 FOOTBALL WALLPAPERS 4K | FULL HD BACKGROUNDS 😍</td>\n",
       "      <td>4.7</td>\n",
       "      <td>11661</td>\n",
       "      <td>4.0</td>\n",
       "      <td>(1000000, 5000000]</td>\n",
       "      <td>0.00</td>\n",
       "      <td>Everyone</td>\n",
       "      <td>07-2018</td>\n",
       "      <td>1.1.3.2</td>\n",
       "      <td>4.0.3 and up</td>\n",
       "      <td>Entertainment</td>\n",
       "      <td>None</td>\n",
       "      <td>0</td>\n",
       "      <td>0</td>\n",
       "      <td>Medium</td>\n",
       "      <td>0.002914</td>\n",
       "      <td>0</td>\n",
       "    </tr>\n",
       "    <tr>\n",
       "      <td>1</td>\n",
       "      <td>📏 SMART RULER ↔️ CM/INCH MEASURING FOR HOMEWORK!</td>\n",
       "      <td>4.0</td>\n",
       "      <td>19</td>\n",
       "      <td>3.2</td>\n",
       "      <td>(10000, 50000]</td>\n",
       "      <td>0.00</td>\n",
       "      <td>Everyone</td>\n",
       "      <td>10-2017</td>\n",
       "      <td>1.0</td>\n",
       "      <td>4.2 and up</td>\n",
       "      <td>Tools</td>\n",
       "      <td>None</td>\n",
       "      <td>0</td>\n",
       "      <td>0</td>\n",
       "      <td>Medium</td>\n",
       "      <td>0.000473</td>\n",
       "      <td>0</td>\n",
       "    </tr>\n",
       "    <tr>\n",
       "      <td>2</td>\n",
       "      <td>💘 WHATSLOV: SMILEYS OF LOVE, STICKERS AND GIF</td>\n",
       "      <td>4.6</td>\n",
       "      <td>22098</td>\n",
       "      <td>18.0</td>\n",
       "      <td>(1000000, 5000000]</td>\n",
       "      <td>0.00</td>\n",
       "      <td>Everyone</td>\n",
       "      <td>07-2018</td>\n",
       "      <td>4.2.4</td>\n",
       "      <td>4.0.3 and up</td>\n",
       "      <td>Social</td>\n",
       "      <td>None</td>\n",
       "      <td>0</td>\n",
       "      <td>0</td>\n",
       "      <td>Medium</td>\n",
       "      <td>0.005523</td>\n",
       "      <td>0</td>\n",
       "    </tr>\n",
       "    <tr>\n",
       "      <td>3</td>\n",
       "      <td>💎 I'M RICH</td>\n",
       "      <td>3.8</td>\n",
       "      <td>718</td>\n",
       "      <td>26.0</td>\n",
       "      <td>(10000, 50000]</td>\n",
       "      <td>399.99</td>\n",
       "      <td>Everyone</td>\n",
       "      <td>03-2018</td>\n",
       "      <td>1.0.0</td>\n",
       "      <td>4.4 and up</td>\n",
       "      <td>Lifestyle</td>\n",
       "      <td>None</td>\n",
       "      <td>0</td>\n",
       "      <td>0</td>\n",
       "      <td>Medium</td>\n",
       "      <td>0.017948</td>\n",
       "      <td>0</td>\n",
       "    </tr>\n",
       "    <tr>\n",
       "      <td>4</td>\n",
       "      <td>감성학원 BL 첫사랑</td>\n",
       "      <td>4.4</td>\n",
       "      <td>190</td>\n",
       "      <td>34.0</td>\n",
       "      <td>(10000, 50000]</td>\n",
       "      <td>0.00</td>\n",
       "      <td>Everyone</td>\n",
       "      <td>11-2017</td>\n",
       "      <td>3.2.1</td>\n",
       "      <td>3.0 and up</td>\n",
       "      <td>Comics</td>\n",
       "      <td>None</td>\n",
       "      <td>0</td>\n",
       "      <td>0</td>\n",
       "      <td>Medium</td>\n",
       "      <td>0.004748</td>\n",
       "      <td>0</td>\n",
       "    </tr>\n",
       "  </tbody>\n",
       "</table>\n",
       "</div>"
      ],
      "text/plain": [
       "                                                App  Rating  Reviews  Size  \\\n",
       "0  🔥 FOOTBALL WALLPAPERS 4K | FULL HD BACKGROUNDS 😍     4.7    11661   4.0   \n",
       "1  📏 SMART RULER ↔️ CM/INCH MEASURING FOR HOMEWORK!     4.0       19   3.2   \n",
       "2     💘 WHATSLOV: SMILEYS OF LOVE, STICKERS AND GIF     4.6    22098  18.0   \n",
       "3                                        💎 I'M RICH     3.8      718  26.0   \n",
       "4                                       감성학원 BL 첫사랑     4.4      190  34.0   \n",
       "\n",
       "             Installs   Price Content Rating Last Updated Current Ver  \\\n",
       "0  (1000000, 5000000]    0.00       Everyone      07-2018     1.1.3.2   \n",
       "1      (10000, 50000]    0.00       Everyone      10-2017         1.0   \n",
       "2  (1000000, 5000000]    0.00       Everyone      07-2018       4.2.4   \n",
       "3      (10000, 50000]  399.99       Everyone      03-2018       1.0.0   \n",
       "4      (10000, 50000]    0.00       Everyone      11-2017       3.2.1   \n",
       "\n",
       "    Android Ver    Main_Genres Secondary_Genres  Is_Family  Is_Game  \\\n",
       "0  4.0.3 and up  Entertainment             None          0        0   \n",
       "1    4.2 and up          Tools             None          0        0   \n",
       "2  4.0.3 and up         Social             None          0        0   \n",
       "3    4.4 and up      Lifestyle             None          0        0   \n",
       "4    3.0 and up         Comics             None          0        0   \n",
       "\n",
       "  Compatibility       RTR  Both_Stores  \n",
       "0        Medium  0.002914            0  \n",
       "1        Medium  0.000473            0  \n",
       "2        Medium  0.005523            0  \n",
       "3        Medium  0.017948            0  \n",
       "4        Medium  0.004748            0  "
      ]
     },
     "execution_count": 38,
     "metadata": {},
     "output_type": "execute_result"
    }
   ],
   "source": [
    "df = pd.read_csv(r'C:/Users/aldoi/Desktop/Università di Pisa/Big Data/GooglePlayProg/CSV/data_cleaned.csv')\n",
    "df.head()"
   ]
  },
  {
   "cell_type": "markdown",
   "metadata": {},
   "source": [
    "Last Updated trasforming"
   ]
  },
  {
   "cell_type": "code",
   "execution_count": 40,
   "metadata": {},
   "outputs": [],
   "source": [
    "df['YearUpdated'], df['MonthUpdated'] = pd.to_datetime(df['Last Updated']).dt.year, pd.to_datetime(df['Last Updated']).dt.month"
   ]
  },
  {
   "cell_type": "markdown",
   "metadata": {},
   "source": [
    "Categorical LabelEconding"
   ]
  },
  {
   "cell_type": "code",
   "execution_count": 41,
   "metadata": {},
   "outputs": [
    {
     "data": {
      "text/html": [
       "<div>\n",
       "<style scoped>\n",
       "    .dataframe tbody tr th:only-of-type {\n",
       "        vertical-align: middle;\n",
       "    }\n",
       "\n",
       "    .dataframe tbody tr th {\n",
       "        vertical-align: top;\n",
       "    }\n",
       "\n",
       "    .dataframe thead th {\n",
       "        text-align: right;\n",
       "    }\n",
       "</style>\n",
       "<table border=\"1\" class=\"dataframe\">\n",
       "  <thead>\n",
       "    <tr style=\"text-align: right;\">\n",
       "      <th></th>\n",
       "      <th>App</th>\n",
       "      <th>Rating</th>\n",
       "      <th>Reviews</th>\n",
       "      <th>Size</th>\n",
       "      <th>Installs</th>\n",
       "      <th>Price</th>\n",
       "      <th>Content Rating</th>\n",
       "      <th>Last Updated</th>\n",
       "      <th>Current Ver</th>\n",
       "      <th>Android Ver</th>\n",
       "      <th>Main_Genres</th>\n",
       "      <th>Secondary_Genres</th>\n",
       "      <th>Is_Family</th>\n",
       "      <th>Is_Game</th>\n",
       "      <th>Compatibility</th>\n",
       "      <th>RTR</th>\n",
       "      <th>Both_Stores</th>\n",
       "      <th>YearUpdated</th>\n",
       "      <th>MonthUpdated</th>\n",
       "    </tr>\n",
       "  </thead>\n",
       "  <tbody>\n",
       "    <tr>\n",
       "      <td>0</td>\n",
       "      <td>🔥 FOOTBALL WALLPAPERS 4K | FULL HD BACKGROUNDS 😍</td>\n",
       "      <td>4.7</td>\n",
       "      <td>11661</td>\n",
       "      <td>4.0</td>\n",
       "      <td>6</td>\n",
       "      <td>0.00</td>\n",
       "      <td>1</td>\n",
       "      <td>07-2018</td>\n",
       "      <td>278</td>\n",
       "      <td>14</td>\n",
       "      <td>17</td>\n",
       "      <td>5</td>\n",
       "      <td>0</td>\n",
       "      <td>0</td>\n",
       "      <td>2</td>\n",
       "      <td>0.002914</td>\n",
       "      <td>0</td>\n",
       "      <td>2018</td>\n",
       "      <td>7</td>\n",
       "    </tr>\n",
       "    <tr>\n",
       "      <td>1</td>\n",
       "      <td>📏 SMART RULER ↔️ CM/INCH MEASURING FOR HOMEWORK!</td>\n",
       "      <td>4.0</td>\n",
       "      <td>19</td>\n",
       "      <td>3.2</td>\n",
       "      <td>4</td>\n",
       "      <td>0.00</td>\n",
       "      <td>1</td>\n",
       "      <td>10-2017</td>\n",
       "      <td>104</td>\n",
       "      <td>17</td>\n",
       "      <td>42</td>\n",
       "      <td>5</td>\n",
       "      <td>0</td>\n",
       "      <td>0</td>\n",
       "      <td>2</td>\n",
       "      <td>0.000473</td>\n",
       "      <td>0</td>\n",
       "      <td>2017</td>\n",
       "      <td>10</td>\n",
       "    </tr>\n",
       "    <tr>\n",
       "      <td>2</td>\n",
       "      <td>💘 WHATSLOV: SMILEYS OF LOVE, STICKERS AND GIF</td>\n",
       "      <td>4.6</td>\n",
       "      <td>22098</td>\n",
       "      <td>18.0</td>\n",
       "      <td>6</td>\n",
       "      <td>0.00</td>\n",
       "      <td>1</td>\n",
       "      <td>07-2018</td>\n",
       "      <td>1853</td>\n",
       "      <td>14</td>\n",
       "      <td>39</td>\n",
       "      <td>5</td>\n",
       "      <td>0</td>\n",
       "      <td>0</td>\n",
       "      <td>2</td>\n",
       "      <td>0.005523</td>\n",
       "      <td>0</td>\n",
       "      <td>2018</td>\n",
       "      <td>7</td>\n",
       "    </tr>\n",
       "    <tr>\n",
       "      <td>3</td>\n",
       "      <td>💎 I'M RICH</td>\n",
       "      <td>3.8</td>\n",
       "      <td>718</td>\n",
       "      <td>26.0</td>\n",
       "      <td>4</td>\n",
       "      <td>399.99</td>\n",
       "      <td>1</td>\n",
       "      <td>03-2018</td>\n",
       "      <td>108</td>\n",
       "      <td>19</td>\n",
       "      <td>24</td>\n",
       "      <td>5</td>\n",
       "      <td>0</td>\n",
       "      <td>0</td>\n",
       "      <td>2</td>\n",
       "      <td>0.017948</td>\n",
       "      <td>0</td>\n",
       "      <td>2018</td>\n",
       "      <td>3</td>\n",
       "    </tr>\n",
       "    <tr>\n",
       "      <td>4</td>\n",
       "      <td>감성학원 BL 첫사랑</td>\n",
       "      <td>4.4</td>\n",
       "      <td>190</td>\n",
       "      <td>34.0</td>\n",
       "      <td>4</td>\n",
       "      <td>0.00</td>\n",
       "      <td>1</td>\n",
       "      <td>11-2017</td>\n",
       "      <td>1551</td>\n",
       "      <td>9</td>\n",
       "      <td>12</td>\n",
       "      <td>5</td>\n",
       "      <td>0</td>\n",
       "      <td>0</td>\n",
       "      <td>2</td>\n",
       "      <td>0.004748</td>\n",
       "      <td>0</td>\n",
       "      <td>2017</td>\n",
       "      <td>11</td>\n",
       "    </tr>\n",
       "  </tbody>\n",
       "</table>\n",
       "</div>"
      ],
      "text/plain": [
       "                                                App  Rating  Reviews  Size  \\\n",
       "0  🔥 FOOTBALL WALLPAPERS 4K | FULL HD BACKGROUNDS 😍     4.7    11661   4.0   \n",
       "1  📏 SMART RULER ↔️ CM/INCH MEASURING FOR HOMEWORK!     4.0       19   3.2   \n",
       "2     💘 WHATSLOV: SMILEYS OF LOVE, STICKERS AND GIF     4.6    22098  18.0   \n",
       "3                                        💎 I'M RICH     3.8      718  26.0   \n",
       "4                                       감성학원 BL 첫사랑     4.4      190  34.0   \n",
       "\n",
       "   Installs   Price  Content Rating Last Updated  Current Ver  Android Ver  \\\n",
       "0         6    0.00               1      07-2018          278           14   \n",
       "1         4    0.00               1      10-2017          104           17   \n",
       "2         6    0.00               1      07-2018         1853           14   \n",
       "3         4  399.99               1      03-2018          108           19   \n",
       "4         4    0.00               1      11-2017         1551            9   \n",
       "\n",
       "   Main_Genres  Secondary_Genres  Is_Family  Is_Game  Compatibility       RTR  \\\n",
       "0           17                 5          0        0              2  0.002914   \n",
       "1           42                 5          0        0              2  0.000473   \n",
       "2           39                 5          0        0              2  0.005523   \n",
       "3           24                 5          0        0              2  0.017948   \n",
       "4           12                 5          0        0              2  0.004748   \n",
       "\n",
       "   Both_Stores  YearUpdated  MonthUpdated  \n",
       "0            0         2018             7  \n",
       "1            0         2017            10  \n",
       "2            0         2018             7  \n",
       "3            0         2018             3  \n",
       "4            0         2017            11  "
      ]
     },
     "execution_count": 41,
     "metadata": {},
     "output_type": "execute_result"
    }
   ],
   "source": [
    "categorical_attrs = ['Installs', 'Content Rating', 'Current Ver', 'Android Ver', 'Main_Genres','Secondary_Genres', 'Compatibility']\n",
    "numerical_attrs = ['Reviews', 'Size', 'Price']\n",
    "df[categorical_attrs] = df[categorical_attrs].apply(LabelEncoder().fit_transform)\n",
    "df.head()"
   ]
  },
  {
   "cell_type": "markdown",
   "metadata": {},
   "source": [
    "Drop Apps and Last Updated attributes"
   ]
  },
  {
   "cell_type": "code",
   "execution_count": 42,
   "metadata": {},
   "outputs": [],
   "source": [
    "columns=['App','Last Updated']\n",
    "df.drop(columns, inplace=True, axis=1)"
   ]
  },
  {
   "cell_type": "markdown",
   "metadata": {},
   "source": [
    "Dataset spliting"
   ]
  },
  {
   "cell_type": "code",
   "execution_count": 43,
   "metadata": {},
   "outputs": [],
   "source": [
    "class_name='Rating'\n",
    "attributes = [col for col in df.columns if col != class_name]\n",
    "X = df[attributes].values\n",
    "y = df[class_name]\n",
    "\n",
    "X_train, X_test, y_train, y_test = train_test_split(X, y,  random_state=42)"
   ]
  },
  {
   "cell_type": "code",
   "execution_count": 44,
   "metadata": {},
   "outputs": [],
   "source": [
    "from sklearn.metrics import make_scorer\n",
    "mse=make_scorer(mean_squared_error,greater_is_better=False)"
   ]
  },
  {
   "cell_type": "markdown",
   "metadata": {},
   "source": [
    "GridSearch on LAD model"
   ]
  },
  {
   "cell_type": "code",
   "execution_count": 45,
   "metadata": {},
   "outputs": [
    {
     "name": "stderr",
     "output_type": "stream",
     "text": [
      "C:\\Users\\aldoi\\Anaconda3\\lib\\site-packages\\sklearn\\model_selection\\_search.py:814: DeprecationWarning:\n",
      "\n",
      "The default of the `iid` parameter will change from True to False in version 0.22 and will be removed in 0.24. This will change numeric results when test-set sizes are unequal.\n",
      "\n",
      "C:\\Users\\aldoi\\Anaconda3\\lib\\site-packages\\sklearn\\svm\\classes.py:408: DeprecationWarning:\n",
      "\n",
      "loss='l2' has been deprecated in favor of loss='squared_epsilon_insensitive' as of 0.16. Backward compatibility for the loss='l2' will be removed in 1.0\n",
      "\n",
      "C:\\Users\\aldoi\\Anaconda3\\lib\\site-packages\\sklearn\\svm\\base.py:929: ConvergenceWarning:\n",
      "\n",
      "Liblinear failed to converge, increase the number of iterations.\n",
      "\n"
     ]
    },
    {
     "data": {
      "text/plain": [
       "GridSearchCV(cv=5, error_score='raise-deprecating',\n",
       "             estimator=LAD(C=1.0, dual=True, epsilon=0.0, fit_intercept=True,\n",
       "                           intercept_scaling=1.0, loss='epsilon_insensitive',\n",
       "                           max_iter=1000, random_state=42, tol=0.0001,\n",
       "                           verbose=0),\n",
       "             iid='warn', n_jobs=-1,\n",
       "             param_grid={'C': [1, 5, 10], 'epsilon': [0.0, 0.1, 1.0, 0.001],\n",
       "                         'loss': ['l2', 'l1', 'epsilon_insensitive'],\n",
       "                         'max_iter': [10000],\n",
       "                         'tol': [0.0001, 0.001, 0.01, 1e-05]},\n",
       "             pre_dispatch='2*n_jobs', refit=True, return_train_score=False,\n",
       "             scoring=make_scorer(mean_squared_error, greater_is_better=False),\n",
       "             verbose=0)"
      ]
     },
     "execution_count": 45,
     "metadata": {},
     "output_type": "execute_result"
    }
   ],
   "source": [
    "param_grid = {\"epsilon\":[0.0,0.1,1.0,0.001],\"tol\": [0.0001,0.001,0.01,0.00001],\n",
    "              \"loss\": ['l2','l1','epsilon_insensitive'],\n",
    "              \"max_iter\":[10000],\"C\":[1,5,10]\n",
    "             }\n",
    "\n",
    "# run grid search\n",
    "grid = GridSearchCV(mr.LAD(random_state=42), param_grid, n_jobs=-1, cv = 5, scoring = mse)\n",
    "grid.fit(X_train, y_train)"
   ]
  },
  {
   "cell_type": "markdown",
   "metadata": {},
   "source": [
    "Best estimator LAD model"
   ]
  },
  {
   "cell_type": "code",
   "execution_count": 46,
   "metadata": {},
   "outputs": [
    {
     "data": {
      "text/plain": [
       "LAD(C=1, dual=True, epsilon=0.0, fit_intercept=True, intercept_scaling=1.0,\n",
       "    loss='squared_epsilon_insensitive', max_iter=10000, random_state=42,\n",
       "    tol=0.0001, verbose=0)"
      ]
     },
     "execution_count": 46,
     "metadata": {},
     "output_type": "execute_result"
    }
   ],
   "source": [
    "LAD=grid.best_estimator_\n",
    "LAD"
   ]
  },
  {
   "cell_type": "code",
   "execution_count": 47,
   "metadata": {},
   "outputs": [
    {
     "name": "stderr",
     "output_type": "stream",
     "text": [
      "C:\\Users\\aldoi\\Anaconda3\\lib\\site-packages\\sklearn\\svm\\base.py:929: ConvergenceWarning:\n",
      "\n",
      "Liblinear failed to converge, increase the number of iterations.\n",
      "\n"
     ]
    },
    {
     "data": {
      "text/plain": [
       "LAD(C=1, dual=True, epsilon=0.0, fit_intercept=True, intercept_scaling=1.0,\n",
       "    loss='squared_epsilon_insensitive', max_iter=10000, random_state=42,\n",
       "    tol=0.0001, verbose=0)"
      ]
     },
     "execution_count": 47,
     "metadata": {},
     "output_type": "execute_result"
    }
   ],
   "source": [
    "LAD.fit(X_train, y_train)"
   ]
  },
  {
   "cell_type": "markdown",
   "metadata": {},
   "source": [
    "Evaluating of training performance"
   ]
  },
  {
   "cell_type": "code",
   "execution_count": 48,
   "metadata": {},
   "outputs": [
    {
     "name": "stdout",
     "output_type": "stream",
     "text": [
      "Mean Absolute Error of LAD 0.7378395965511632\n",
      "Mean Squared Error 1.371633317065235\n",
      "Pearson: -0.139\n",
      "KS test: 0.704\n"
     ]
    }
   ],
   "source": [
    "y_pred =LAD.predict(X_train)\n",
    "print('Mean Absolute Error of LAD %s' %\n",
    "      metrics.mean_absolute_error(y_train, y_pred))\n",
    "print ('Mean Squared Error %s' %\n",
    "      mean_squared_error(y_train,y_pred))\n",
    "Pearson, p_value = stats.pearsonr(y_train, y_pred)\n",
    "KStest, p_value = stats.ks_2samp(y_train,y_pred) \n",
    "print('Pearson:', round(Pearson,3))\n",
    "print('KS test:', round(KStest,3))"
   ]
  },
  {
   "cell_type": "markdown",
   "metadata": {},
   "source": [
    "Evaluating of test performance"
   ]
  },
  {
   "cell_type": "code",
   "execution_count": 49,
   "metadata": {},
   "outputs": [
    {
     "name": "stdout",
     "output_type": "stream",
     "text": [
      "Mean Absolute Error of LAD 0.7591707317073171\n",
      "Mean Squared Error 1.3911463414634149\n",
      "Pearson: -0.143\n",
      "KS test: 0.704\n"
     ]
    }
   ],
   "source": [
    "#Least Absolute Deviation\n",
    "y_pred =LAD.predict(X_test)\n",
    "print('Mean Absolute Error of LAD %s' %\n",
    "      metrics.mean_absolute_error(y_test, y_pred))\n",
    "print ('Mean Squared Error %s' %\n",
    "      mean_squared_error(y_test,y_pred))\n",
    "Pearson, p_value = stats.pearsonr(y_test, y_pred)\n",
    "KStest, p_value = stats.ks_2samp(y_test,y_pred) \n",
    "print('Pearson:', round(Pearson,3))\n",
    "print('KS test:', round(KStest,3))"
   ]
  },
  {
   "cell_type": "markdown",
   "metadata": {},
   "source": [
    "Plotting of prediction LAD model"
   ]
  },
  {
   "cell_type": "code",
   "execution_count": 50,
   "metadata": {},
   "outputs": [
    {
     "data": {
      "image/png": "[encoded data removed]",
      "text/plain": [
       "<Figure size 1080x720 with 1 Axes>"
      ]
     },
     "metadata": {
      "needs_background": "light"
     },
     "output_type": "display_data"
    }
   ],
   "source": [
    "pred_df = pd.DataFrame(data = {\"Predicted\": np.around(y_pred, decimals=1), \"Actual\": y_test})\n",
    "plt.figure(figsize=(15,10))\n",
    "\n",
    "plt.plot(pred_df[\"Predicted\"][:], \"o\")\n",
    "plt.plot(pred_df['Actual'][:], \"^\", alpha=0.50)\n",
    "plt.show()"
   ]
  },
  {
   "cell_type": "markdown",
   "metadata": {},
   "source": [
    "GridSearch on OrdinalRidge model"
   ]
  },
  {
   "cell_type": "code",
   "execution_count": 52,
   "metadata": {},
   "outputs": [
    {
     "data": {
      "text/plain": [
       "GridSearchCV(cv=5, error_score='raise-deprecating',\n",
       "             estimator=OrdinalRidge(alpha=1.0, copy_X=True, fit_intercept=True,\n",
       "                                    max_iter=None, normalize=False,\n",
       "                                    random_state=42, solver='auto', tol=0.001),\n",
       "             iid='warn', n_jobs=-1,\n",
       "             param_grid={'alpha': [1, 0.1, 0.01, 0.001, 0.0001, 0],\n",
       "                         'max_iter': [10000],\n",
       "                         'solver': ['svd', 'cholesky', 'lsqr', 'sparse_cg',\n",
       "                                    'sag', 'saga', 'auto'],\n",
       "                         'tol': [0.0001, 0.001, 0.01, 1e-05]},\n",
       "             pre_dispatch='2*n_jobs', refit=True, return_train_score=False,\n",
       "             scoring=make_scorer(mean_squared_error, greater_is_better=False),\n",
       "             verbose=0)"
      ]
     },
     "execution_count": 52,
     "metadata": {},
     "output_type": "execute_result"
    }
   ],
   "source": [
    "param_grid = {\"alpha\":[1,0.1,0.01,0.001,0.0001,0],\"tol\": [0.0001,0.001,0.01,0.00001],\n",
    "              \"solver\": ['svd', 'cholesky', 'lsqr', 'sparse_cg', 'sag', 'saga','auto'],\n",
    "              \"max_iter\":[10000]\n",
    "             }\n",
    "\n",
    "# run grid search\n",
    "grid = GridSearchCV(mr.OrdinalRidge(random_state=42), param_grid, n_jobs=-1, cv = 5, scoring = mse)\n",
    "grid.fit(X_train, y_train)"
   ]
  },
  {
   "cell_type": "markdown",
   "metadata": {},
   "source": [
    "Best estimator of OR model"
   ]
  },
  {
   "cell_type": "code",
   "execution_count": 53,
   "metadata": {},
   "outputs": [
    {
     "data": {
      "text/plain": [
       "OrdinalRidge(alpha=0.001, copy_X=True, fit_intercept=True, max_iter=10000,\n",
       "             normalize=False, random_state=42, solver='svd', tol=0.0001)"
      ]
     },
     "execution_count": 53,
     "metadata": {},
     "output_type": "execute_result"
    }
   ],
   "source": [
    "OR=grid.best_estimator_\n",
    "OR"
   ]
  },
  {
   "cell_type": "markdown",
   "metadata": {},
   "source": [
    "Evaluating of training performance"
   ]
  },
  {
   "cell_type": "code",
   "execution_count": 54,
   "metadata": {},
   "outputs": [
    {
     "name": "stdout",
     "output_type": "stream",
     "text": [
      "Mean Absolute Error of OrdinalRidge 0.43352855051244504\n",
      "Mean Squared Error 0.30919635594598993\n",
      "Pearson: 0.114\n",
      "KS test: 0.689\n"
     ]
    }
   ],
   "source": [
    "y_pred =OR.predict(X_train)\n",
    "print('Mean Absolute Error of OrdinalRidge %s' %\n",
    "      metrics.mean_absolute_error(y_train, y_pred))\n",
    "print ('Mean Squared Error %s' %\n",
    "      mean_squared_error(y_train,y_pred))\n",
    "Pearson, p_value = stats.pearsonr(y_train, y_pred)\n",
    "KStest, p_value = stats.ks_2samp(y_train,y_pred) \n",
    "print('Pearson:', round(Pearson,3))\n",
    "print('KS test:', round(KStest,3))"
   ]
  },
  {
   "cell_type": "markdown",
   "metadata": {},
   "source": [
    "Evaluating of test performance"
   ]
  },
  {
   "cell_type": "code",
   "execution_count": 55,
   "metadata": {
    "scrolled": true
   },
   "outputs": [
    {
     "name": "stdout",
     "output_type": "stream",
     "text": [
      "Mean Absolute Error of OrdinalRidge 0.4437560975609756\n",
      "Mean Squared Error 0.3268536585365853\n",
      "Pearson: 0.095\n",
      "KS test: 0.69\n"
     ]
    }
   ],
   "source": [
    "y_pred =OR.predict(X_test)\n",
    "print('Mean Absolute Error of OrdinalRidge %s' %\n",
    "      metrics.mean_absolute_error(y_test, y_pred))\n",
    "print ('Mean Squared Error %s' %\n",
    "      mean_squared_error(y_test,y_pred))\n",
    "Pearson, p_value = stats.pearsonr(y_test, y_pred)\n",
    "KStest, p_value = stats.ks_2samp(y_test,y_pred) \n",
    "print('Pearson:', round(Pearson,3))\n",
    "print('KS test:', round(KStest,3))"
   ]
  },
  {
   "cell_type": "markdown",
   "metadata": {},
   "source": [
    "Plotting prediction OR model"
   ]
  },
  {
   "cell_type": "code",
   "execution_count": 56,
   "metadata": {},
   "outputs": [
    {
     "data": {
      "image/png": "[encoded data removed]",
      "text/plain": [
       "<Figure size 1080x720 with 1 Axes>"
      ]
     },
     "metadata": {
      "needs_background": "light"
     },
     "output_type": "display_data"
    }
   ],
   "source": [
    "pred_df = pd.DataFrame(data = {\"Predicted\": np.around(y_pred, decimals=1), \"Actual\": y_test})\n",
    "plt.figure(figsize=(15,10))\n",
    "\n",
    "plt.plot(pred_df[\"Predicted\"][:], \"o\")\n",
    "plt.plot(pred_df['Actual'][:], \"^\", alpha=0.50)\n",
    "plt.show()"
   ]
  },
  {
   "cell_type": "code",
   "execution_count": null,
   "metadata": {},
   "outputs": [],
   "source": []
  }
 ],
 "metadata": {
  "kernelspec": {
   "display_name": "Python 3",
   "language": "python",
   "name": "python3"
  },
  "language_info": {
   "codemirror_mode": {
    "name": "ipython",
    "version": 3
   },
   "file_extension": ".py",
   "mimetype": "text/x-python",
   "name": "python",
   "nbconvert_exporter": "python",
   "pygments_lexer": "ipython3",
   "version": "3.7.7"
  }
 },
 "nbformat": 4,
 "nbformat_minor": 2
}
